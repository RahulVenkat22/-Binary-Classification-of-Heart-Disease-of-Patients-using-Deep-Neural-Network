{
 "cells": [
  {
   "cell_type": "markdown",
   "metadata": {
    "id": "tlrZUh_YTrJw"
   },
   "source": [
    "\n",
    "# Binary Classification of Heart Disease of Patients using Deep Neural Network"
   ]
  },
  {
   "cell_type": "markdown",
   "metadata": {
    "id": "y5gG2SO_TrJz"
   },
   "source": [
    "### 1. Load the dataset: “heart_data.csv” and explore the features"
   ]
  },
  {
   "cell_type": "code",
   "execution_count": 1,
   "metadata": {
    "id": "kMVL0CN7TrJ0"
   },
   "outputs": [],
   "source": [
    "import pandas as pd"
   ]
  },
  {
   "cell_type": "code",
   "execution_count": 2,
   "metadata": {
    "id": "MG_tFKS_TrJ1"
   },
   "outputs": [],
   "source": [
    "df = pd.read_csv(\"heart (1).csv\")"
   ]
  },
  {
   "cell_type": "code",
   "execution_count": 3,
   "metadata": {
    "id": "N2jST-w7TrJ1",
    "outputId": "f690a808-2f35-422d-80e8-a3a80f864ae9"
   },
   "outputs": [
    {
     "data": {
      "text/html": [
       "<div>\n",
       "<style scoped>\n",
       "    .dataframe tbody tr th:only-of-type {\n",
       "        vertical-align: middle;\n",
       "    }\n",
       "\n",
       "    .dataframe tbody tr th {\n",
       "        vertical-align: top;\n",
       "    }\n",
       "\n",
       "    .dataframe thead th {\n",
       "        text-align: right;\n",
       "    }\n",
       "</style>\n",
       "<table border=\"1\" class=\"dataframe\">\n",
       "  <thead>\n",
       "    <tr style=\"text-align: right;\">\n",
       "      <th></th>\n",
       "      <th>age</th>\n",
       "      <th>sex</th>\n",
       "      <th>cp</th>\n",
       "      <th>trestbps</th>\n",
       "      <th>chol</th>\n",
       "      <th>fbs</th>\n",
       "      <th>restecg</th>\n",
       "      <th>thalach</th>\n",
       "      <th>exang</th>\n",
       "      <th>oldpeak</th>\n",
       "      <th>slope</th>\n",
       "      <th>ca</th>\n",
       "      <th>thal</th>\n",
       "      <th>target</th>\n",
       "    </tr>\n",
       "  </thead>\n",
       "  <tbody>\n",
       "    <tr>\n",
       "      <th>0</th>\n",
       "      <td>52</td>\n",
       "      <td>1</td>\n",
       "      <td>0</td>\n",
       "      <td>125</td>\n",
       "      <td>212</td>\n",
       "      <td>0</td>\n",
       "      <td>1</td>\n",
       "      <td>168</td>\n",
       "      <td>0</td>\n",
       "      <td>1.0</td>\n",
       "      <td>2</td>\n",
       "      <td>2</td>\n",
       "      <td>3</td>\n",
       "      <td>0</td>\n",
       "    </tr>\n",
       "    <tr>\n",
       "      <th>1</th>\n",
       "      <td>53</td>\n",
       "      <td>1</td>\n",
       "      <td>0</td>\n",
       "      <td>140</td>\n",
       "      <td>203</td>\n",
       "      <td>1</td>\n",
       "      <td>0</td>\n",
       "      <td>155</td>\n",
       "      <td>1</td>\n",
       "      <td>3.1</td>\n",
       "      <td>0</td>\n",
       "      <td>0</td>\n",
       "      <td>3</td>\n",
       "      <td>0</td>\n",
       "    </tr>\n",
       "    <tr>\n",
       "      <th>2</th>\n",
       "      <td>70</td>\n",
       "      <td>1</td>\n",
       "      <td>0</td>\n",
       "      <td>145</td>\n",
       "      <td>174</td>\n",
       "      <td>0</td>\n",
       "      <td>1</td>\n",
       "      <td>125</td>\n",
       "      <td>1</td>\n",
       "      <td>2.6</td>\n",
       "      <td>0</td>\n",
       "      <td>0</td>\n",
       "      <td>3</td>\n",
       "      <td>0</td>\n",
       "    </tr>\n",
       "    <tr>\n",
       "      <th>3</th>\n",
       "      <td>61</td>\n",
       "      <td>1</td>\n",
       "      <td>0</td>\n",
       "      <td>148</td>\n",
       "      <td>203</td>\n",
       "      <td>0</td>\n",
       "      <td>1</td>\n",
       "      <td>161</td>\n",
       "      <td>0</td>\n",
       "      <td>0.0</td>\n",
       "      <td>2</td>\n",
       "      <td>1</td>\n",
       "      <td>3</td>\n",
       "      <td>0</td>\n",
       "    </tr>\n",
       "    <tr>\n",
       "      <th>4</th>\n",
       "      <td>62</td>\n",
       "      <td>0</td>\n",
       "      <td>0</td>\n",
       "      <td>138</td>\n",
       "      <td>294</td>\n",
       "      <td>1</td>\n",
       "      <td>1</td>\n",
       "      <td>106</td>\n",
       "      <td>0</td>\n",
       "      <td>1.9</td>\n",
       "      <td>1</td>\n",
       "      <td>3</td>\n",
       "      <td>2</td>\n",
       "      <td>0</td>\n",
       "    </tr>\n",
       "  </tbody>\n",
       "</table>\n",
       "</div>"
      ],
      "text/plain": [
       "   age  sex  cp  trestbps  chol  fbs  restecg  thalach  exang  oldpeak  slope  \\\n",
       "0   52    1   0       125   212    0        1      168      0      1.0      2   \n",
       "1   53    1   0       140   203    1        0      155      1      3.1      0   \n",
       "2   70    1   0       145   174    0        1      125      1      2.6      0   \n",
       "3   61    1   0       148   203    0        1      161      0      0.0      2   \n",
       "4   62    0   0       138   294    1        1      106      0      1.9      1   \n",
       "\n",
       "   ca  thal  target  \n",
       "0   2     3       0  \n",
       "1   0     3       0  \n",
       "2   0     3       0  \n",
       "3   1     3       0  \n",
       "4   3     2       0  "
      ]
     },
     "execution_count": 3,
     "metadata": {},
     "output_type": "execute_result"
    }
   ],
   "source": [
    "df.head()"
   ]
  },
  {
   "cell_type": "code",
   "execution_count": 4,
   "metadata": {
    "colab": {
     "base_uri": "https://localhost:8080/"
    },
    "id": "GqM67e5JTrJ3",
    "outputId": "a2e444c9-a47c-46c0-a18f-6857141c3579"
   },
   "outputs": [
    {
     "data": {
      "text/plain": [
       "(1025, 14)"
      ]
     },
     "execution_count": 4,
     "metadata": {},
     "output_type": "execute_result"
    }
   ],
   "source": [
    "df.shape"
   ]
  },
  {
   "cell_type": "code",
   "execution_count": 5,
   "metadata": {
    "colab": {
     "base_uri": "https://localhost:8080/"
    },
    "id": "COfws8zlTrJ4",
    "outputId": "cdffdfdc-d774-4816-ae49-8cf1d1e90a57"
   },
   "outputs": [
    {
     "data": {
      "text/plain": [
       "14350"
      ]
     },
     "execution_count": 5,
     "metadata": {},
     "output_type": "execute_result"
    }
   ],
   "source": [
    "df.size"
   ]
  },
  {
   "cell_type": "code",
   "execution_count": 6,
   "metadata": {
    "colab": {
     "base_uri": "https://localhost:8080/"
    },
    "id": "_wVIGZiTTrJ5",
    "outputId": "16578142-3876-42aa-9789-616cb7e1a3cf"
   },
   "outputs": [
    {
     "data": {
      "text/plain": [
       "Index(['age', 'sex', 'cp', 'trestbps', 'chol', 'fbs', 'restecg', 'thalach',\n",
       "       'exang', 'oldpeak', 'slope', 'ca', 'thal', 'target'],\n",
       "      dtype='object')"
      ]
     },
     "execution_count": 6,
     "metadata": {},
     "output_type": "execute_result"
    }
   ],
   "source": [
    "df.columns"
   ]
  },
  {
   "cell_type": "markdown",
   "metadata": {
    "id": "ZjVuBMd8TrJ6"
   },
   "source": [
    "### 2. Split the dataset for training and testing (test size = 20%)"
   ]
  },
  {
   "cell_type": "code",
   "execution_count": 7,
   "metadata": {
    "id": "qYZs7DUvTrJ7"
   },
   "outputs": [],
   "source": [
    "X = df\n",
    "y = df.pop('target')"
   ]
  },
  {
   "cell_type": "code",
   "execution_count": 8,
   "metadata": {
    "id": "YWweF7mlTrJ8"
   },
   "outputs": [],
   "source": [
    "from sklearn.model_selection import train_test_split\n",
    "X_train, X_test, y_train, y_test = train_test_split(X, y, test_size=0.2, random_state=42)"
   ]
  },
  {
   "cell_type": "code",
   "execution_count": 9,
   "metadata": {
    "colab": {
     "base_uri": "https://localhost:8080/"
    },
    "id": "dea629A1TrJ8",
    "outputId": "8d71c1e2-9da9-4426-b866-f8d4b967dc88"
   },
   "outputs": [
    {
     "data": {
      "text/plain": [
       "(820, 13)"
      ]
     },
     "execution_count": 9,
     "metadata": {},
     "output_type": "execute_result"
    }
   ],
   "source": [
    "X_train.shape"
   ]
  },
  {
   "cell_type": "code",
   "execution_count": 10,
   "metadata": {
    "colab": {
     "base_uri": "https://localhost:8080/"
    },
    "id": "9Ly0jbMLTrJ9",
    "outputId": "ea8c3180-f83e-4c09-b3ca-d10ab0f6f97d"
   },
   "outputs": [
    {
     "data": {
      "text/plain": [
       "(205, 13)"
      ]
     },
     "execution_count": 10,
     "metadata": {},
     "output_type": "execute_result"
    }
   ],
   "source": [
    "X_test.shape"
   ]
  },
  {
   "cell_type": "markdown",
   "metadata": {
    "id": "0_GaLR7mTrJ9"
   },
   "source": [
    "### 3. Create a neural network based on the following requirements"
   ]
  },
  {
   "cell_type": "code",
   "execution_count": 11,
   "metadata": {
    "id": "S01UDGweTrJ-"
   },
   "outputs": [],
   "source": [
    "from tensorflow.keras.models import Sequential\n",
    "from tensorflow.keras.layers import Dense"
   ]
  },
  {
   "cell_type": "code",
   "execution_count": 12,
   "metadata": {
    "id": "usRuWI5vTrJ_"
   },
   "outputs": [],
   "source": [
    "model = Sequential()\n",
    "model.add(Dense(8, input_dim=13, activation='relu'))\n",
    "model.add(Dense(1, activation='sigmoid'))"
   ]
  },
  {
   "cell_type": "markdown",
   "metadata": {
    "id": "WNsnWCHmTrJ_"
   },
   "source": [
    "### 4. Compile model with learning rate = 0.001, optimizer as ‘RMSprop’, Mean square error loss and metrics as ‘accuracy’."
   ]
  },
  {
   "cell_type": "code",
   "execution_count": 13,
   "metadata": {
    "id": "sUIHAp_xVCmm"
   },
   "outputs": [],
   "source": [
    "from tensorflow import keras"
   ]
  },
  {
   "cell_type": "code",
   "execution_count": 14,
   "metadata": {
    "id": "seL8fvW_TrJ_"
   },
   "outputs": [],
   "source": [
    "optimizer = keras.optimizers.RMSprop(learning_rate=0.001)"
   ]
  },
  {
   "cell_type": "code",
   "execution_count": 15,
   "metadata": {
    "colab": {
     "base_uri": "https://localhost:8080/"
    },
    "id": "E0iJn5ICTrKA",
    "outputId": "d450a7a5-6d28-45e2-cbbc-5ab4bbc398db"
   },
   "outputs": [
    {
     "name": "stdout",
     "output_type": "stream",
     "text": [
      "Epoch 1/10\n",
      "28/28 [==============================] - 1s 2ms/step - loss: 0.5159 - accuracy: 0.4841\n",
      "Epoch 2/10\n",
      "28/28 [==============================] - 0s 3ms/step - loss: 0.5159 - accuracy: 0.4841\n",
      "Epoch 3/10\n",
      "28/28 [==============================] - 0s 3ms/step - loss: 0.5159 - accuracy: 0.4841\n",
      "Epoch 4/10\n",
      "28/28 [==============================] - 0s 2ms/step - loss: 0.5159 - accuracy: 0.4841\n",
      "Epoch 5/10\n",
      "28/28 [==============================] - 0s 2ms/step - loss: 0.5159 - accuracy: 0.4841\n",
      "Epoch 6/10\n",
      "28/28 [==============================] - 0s 2ms/step - loss: 0.5159 - accuracy: 0.4841\n",
      "Epoch 7/10\n",
      "28/28 [==============================] - 0s 3ms/step - loss: 0.5159 - accuracy: 0.4841\n",
      "Epoch 8/10\n",
      "28/28 [==============================] - 0s 4ms/step - loss: 0.5159 - accuracy: 0.4841\n",
      "Epoch 9/10\n",
      "28/28 [==============================] - 0s 4ms/step - loss: 0.5159 - accuracy: 0.4841\n",
      "Epoch 10/10\n",
      "28/28 [==============================] - 0s 3ms/step - loss: 0.5159 - accuracy: 0.4841\n"
     ]
    },
    {
     "data": {
      "text/plain": [
       "<keras.callbacks.History at 0x2859ced9fd0>"
      ]
     },
     "execution_count": 15,
     "metadata": {},
     "output_type": "execute_result"
    }
   ],
   "source": [
    "model.compile(loss='mse', optimizer=optimizer, metrics=['accuracy'])\n",
    "model.fit(X_train, y_train, epochs=10, batch_size=30, verbose=1)"
   ]
  },
  {
   "cell_type": "code",
   "execution_count": 16,
   "metadata": {
    "colab": {
     "base_uri": "https://localhost:8080/"
    },
    "id": "iY10OJd_VB6r",
    "outputId": "313e3249-e1c5-4b8b-d4d5-eb49cd74c5ff"
   },
   "outputs": [
    {
     "name": "stdout",
     "output_type": "stream",
     "text": [
      "7/7 [==============================] - 0s 2ms/step - loss: 0.5024 - accuracy: 0.4976\n"
     ]
    },
    {
     "data": {
      "text/plain": [
       "[0.502439022064209, 0.497560977935791]"
      ]
     },
     "execution_count": 16,
     "metadata": {},
     "output_type": "execute_result"
    }
   ],
   "source": [
    "model.evaluate(X_test, y_test)"
   ]
  },
  {
   "cell_type": "markdown",
   "metadata": {
    "id": "j_w4fXjeTrKA"
   },
   "source": [
    "### 5. Print the summary of the model: model.summary()"
   ]
  },
  {
   "cell_type": "code",
   "execution_count": 17,
   "metadata": {
    "colab": {
     "base_uri": "https://localhost:8080/"
    },
    "id": "pZcpEqUFTrKA",
    "outputId": "5b425ddf-21f1-4a84-e252-8182707eea8e"
   },
   "outputs": [
    {
     "name": "stdout",
     "output_type": "stream",
     "text": [
      "Model: \"sequential\"\n",
      "_________________________________________________________________\n",
      " Layer (type)                Output Shape              Param #   \n",
      "=================================================================\n",
      " dense (Dense)               (None, 8)                 112       \n",
      "                                                                 \n",
      " dense_1 (Dense)             (None, 1)                 9         \n",
      "                                                                 \n",
      "=================================================================\n",
      "Total params: 121\n",
      "Trainable params: 121\n",
      "Non-trainable params: 0\n",
      "_________________________________________________________________\n"
     ]
    }
   ],
   "source": [
    "model.summary()"
   ]
  },
  {
   "cell_type": "markdown",
   "metadata": {
    "id": "qpnS3oNJTrKB"
   },
   "source": [
    "### 6. Train the model for 200 epochs and batch size as 10"
   ]
  },
  {
   "cell_type": "code",
   "execution_count": 18,
   "metadata": {
    "colab": {
     "base_uri": "https://localhost:8080/"
    },
    "id": "3T6sQKsiTrKB",
    "outputId": "37646f08-b023-44c2-d0cb-d4a6e9a991ea"
   },
   "outputs": [
    {
     "name": "stdout",
     "output_type": "stream",
     "text": [
      "Epoch 1/200\n",
      "82/82 [==============================] - 1s 3ms/step - loss: 0.5159 - accuracy: 0.4841\n",
      "Epoch 2/200\n",
      "82/82 [==============================] - 0s 2ms/step - loss: 0.5159 - accuracy: 0.4841\n",
      "Epoch 3/200\n",
      "82/82 [==============================] - 0s 2ms/step - loss: 0.5159 - accuracy: 0.4841\n",
      "Epoch 4/200\n",
      "82/82 [==============================] - 0s 2ms/step - loss: 0.5159 - accuracy: 0.4841\n",
      "Epoch 5/200\n",
      "82/82 [==============================] - 0s 2ms/step - loss: 0.5159 - accuracy: 0.4841\n",
      "Epoch 6/200\n",
      "82/82 [==============================] - 0s 2ms/step - loss: 0.5159 - accuracy: 0.4841\n",
      "Epoch 7/200\n",
      "82/82 [==============================] - 0s 2ms/step - loss: 0.5159 - accuracy: 0.4841\n",
      "Epoch 8/200\n",
      "82/82 [==============================] - 0s 3ms/step - loss: 0.5159 - accuracy: 0.4841\n",
      "Epoch 9/200\n",
      "82/82 [==============================] - 0s 2ms/step - loss: 0.5159 - accuracy: 0.4841\n",
      "Epoch 10/200\n",
      "82/82 [==============================] - 0s 2ms/step - loss: 0.5159 - accuracy: 0.4841\n",
      "Epoch 11/200\n",
      "82/82 [==============================] - 0s 2ms/step - loss: 0.5159 - accuracy: 0.4841\n",
      "Epoch 12/200\n",
      "82/82 [==============================] - 0s 2ms/step - loss: 0.5159 - accuracy: 0.4841\n",
      "Epoch 13/200\n",
      "82/82 [==============================] - 0s 2ms/step - loss: 0.5159 - accuracy: 0.4841\n",
      "Epoch 14/200\n",
      "82/82 [==============================] - 0s 2ms/step - loss: 0.5159 - accuracy: 0.4841\n",
      "Epoch 15/200\n",
      "82/82 [==============================] - 0s 2ms/step - loss: 0.5159 - accuracy: 0.4841\n",
      "Epoch 16/200\n",
      "82/82 [==============================] - 0s 2ms/step - loss: 0.5159 - accuracy: 0.4841\n",
      "Epoch 17/200\n",
      "82/82 [==============================] - 0s 2ms/step - loss: 0.5159 - accuracy: 0.4841\n",
      "Epoch 18/200\n",
      "82/82 [==============================] - 0s 2ms/step - loss: 0.5159 - accuracy: 0.4841\n",
      "Epoch 19/200\n",
      "82/82 [==============================] - 0s 3ms/step - loss: 0.5159 - accuracy: 0.4841\n",
      "Epoch 20/200\n",
      "82/82 [==============================] - 0s 2ms/step - loss: 0.5159 - accuracy: 0.4841\n",
      "Epoch 21/200\n",
      "82/82 [==============================] - 0s 2ms/step - loss: 0.5159 - accuracy: 0.4841\n",
      "Epoch 22/200\n",
      "82/82 [==============================] - 0s 3ms/step - loss: 0.5159 - accuracy: 0.4841\n",
      "Epoch 23/200\n",
      "82/82 [==============================] - 0s 2ms/step - loss: 0.5159 - accuracy: 0.4841\n",
      "Epoch 24/200\n",
      "82/82 [==============================] - 0s 2ms/step - loss: 0.5159 - accuracy: 0.4841\n",
      "Epoch 25/200\n",
      "82/82 [==============================] - 0s 2ms/step - loss: 0.5159 - accuracy: 0.4841\n",
      "Epoch 26/200\n",
      "82/82 [==============================] - 0s 2ms/step - loss: 0.5159 - accuracy: 0.4841\n",
      "Epoch 27/200\n",
      "82/82 [==============================] - 0s 3ms/step - loss: 0.5159 - accuracy: 0.4841\n",
      "Epoch 28/200\n",
      "82/82 [==============================] - 0s 3ms/step - loss: 0.5159 - accuracy: 0.4841\n",
      "Epoch 29/200\n",
      "82/82 [==============================] - 0s 2ms/step - loss: 0.5159 - accuracy: 0.4841\n",
      "Epoch 30/200\n",
      "82/82 [==============================] - 0s 2ms/step - loss: 0.5159 - accuracy: 0.4841\n",
      "Epoch 31/200\n",
      "82/82 [==============================] - 0s 3ms/step - loss: 0.5159 - accuracy: 0.4841\n",
      "Epoch 32/200\n",
      "82/82 [==============================] - 0s 2ms/step - loss: 0.5159 - accuracy: 0.4841\n",
      "Epoch 33/200\n",
      "82/82 [==============================] - 0s 2ms/step - loss: 0.5159 - accuracy: 0.4841\n",
      "Epoch 34/200\n",
      "82/82 [==============================] - 0s 3ms/step - loss: 0.5159 - accuracy: 0.4841\n",
      "Epoch 35/200\n",
      "82/82 [==============================] - 0s 2ms/step - loss: 0.5159 - accuracy: 0.4841\n",
      "Epoch 36/200\n",
      "82/82 [==============================] - 0s 2ms/step - loss: 0.5159 - accuracy: 0.4841\n",
      "Epoch 37/200\n",
      "82/82 [==============================] - 0s 2ms/step - loss: 0.5159 - accuracy: 0.4841\n",
      "Epoch 38/200\n",
      "82/82 [==============================] - 0s 2ms/step - loss: 0.5159 - accuracy: 0.4841\n",
      "Epoch 39/200\n",
      "82/82 [==============================] - 0s 2ms/step - loss: 0.5159 - accuracy: 0.4841\n",
      "Epoch 40/200\n",
      "82/82 [==============================] - 0s 2ms/step - loss: 0.5159 - accuracy: 0.4841\n",
      "Epoch 41/200\n",
      "82/82 [==============================] - 0s 3ms/step - loss: 0.5159 - accuracy: 0.4841\n",
      "Epoch 42/200\n",
      "82/82 [==============================] - 0s 2ms/step - loss: 0.5159 - accuracy: 0.4841\n",
      "Epoch 43/200\n",
      "82/82 [==============================] - 0s 2ms/step - loss: 0.5159 - accuracy: 0.4841\n",
      "Epoch 44/200\n",
      "82/82 [==============================] - 0s 3ms/step - loss: 0.5159 - accuracy: 0.4841\n",
      "Epoch 45/200\n",
      "82/82 [==============================] - 0s 3ms/step - loss: 0.5159 - accuracy: 0.4841\n",
      "Epoch 46/200\n",
      "82/82 [==============================] - 0s 2ms/step - loss: 0.5159 - accuracy: 0.4841\n",
      "Epoch 47/200\n",
      "82/82 [==============================] - 0s 2ms/step - loss: 0.5159 - accuracy: 0.4841\n",
      "Epoch 48/200\n",
      "82/82 [==============================] - 0s 2ms/step - loss: 0.5159 - accuracy: 0.4841\n",
      "Epoch 49/200\n",
      "82/82 [==============================] - 0s 2ms/step - loss: 0.5159 - accuracy: 0.4841\n",
      "Epoch 50/200\n",
      "82/82 [==============================] - 0s 2ms/step - loss: 0.5159 - accuracy: 0.4841\n",
      "Epoch 51/200\n",
      "82/82 [==============================] - 0s 2ms/step - loss: 0.5159 - accuracy: 0.4841\n",
      "Epoch 52/200\n",
      "82/82 [==============================] - 0s 2ms/step - loss: 0.5159 - accuracy: 0.4841\n",
      "Epoch 53/200\n",
      "82/82 [==============================] - 0s 2ms/step - loss: 0.5159 - accuracy: 0.4841\n",
      "Epoch 54/200\n",
      "82/82 [==============================] - 0s 2ms/step - loss: 0.5159 - accuracy: 0.4841\n",
      "Epoch 55/200\n",
      "82/82 [==============================] - 0s 2ms/step - loss: 0.5159 - accuracy: 0.4841\n",
      "Epoch 56/200\n",
      "82/82 [==============================] - 0s 2ms/step - loss: 0.5159 - accuracy: 0.4841\n",
      "Epoch 57/200\n",
      "82/82 [==============================] - 0s 2ms/step - loss: 0.5159 - accuracy: 0.4841\n",
      "Epoch 58/200\n",
      "82/82 [==============================] - 0s 2ms/step - loss: 0.5159 - accuracy: 0.4841\n",
      "Epoch 59/200\n",
      "82/82 [==============================] - 0s 2ms/step - loss: 0.5159 - accuracy: 0.4841\n",
      "Epoch 60/200\n",
      "82/82 [==============================] - 0s 2ms/step - loss: 0.5159 - accuracy: 0.4841\n",
      "Epoch 61/200\n",
      "82/82 [==============================] - 0s 2ms/step - loss: 0.5159 - accuracy: 0.4841\n",
      "Epoch 62/200\n",
      "82/82 [==============================] - 0s 2ms/step - loss: 0.5159 - accuracy: 0.4841\n",
      "Epoch 63/200\n",
      "82/82 [==============================] - 0s 2ms/step - loss: 0.5159 - accuracy: 0.4841\n",
      "Epoch 64/200\n",
      "82/82 [==============================] - 0s 3ms/step - loss: 0.5159 - accuracy: 0.4841\n",
      "Epoch 65/200\n",
      "82/82 [==============================] - 0s 2ms/step - loss: 0.5159 - accuracy: 0.4841\n",
      "Epoch 66/200\n",
      "82/82 [==============================] - 0s 2ms/step - loss: 0.5159 - accuracy: 0.4841\n",
      "Epoch 67/200\n",
      "82/82 [==============================] - 0s 2ms/step - loss: 0.5159 - accuracy: 0.4841\n",
      "Epoch 68/200\n",
      "82/82 [==============================] - 0s 2ms/step - loss: 0.5159 - accuracy: 0.4841\n",
      "Epoch 69/200\n",
      "82/82 [==============================] - 0s 2ms/step - loss: 0.5159 - accuracy: 0.4841\n",
      "Epoch 70/200\n",
      "82/82 [==============================] - 0s 2ms/step - loss: 0.5159 - accuracy: 0.4841\n",
      "Epoch 71/200\n",
      "82/82 [==============================] - 0s 2ms/step - loss: 0.5159 - accuracy: 0.4841\n",
      "Epoch 72/200\n",
      "82/82 [==============================] - 0s 2ms/step - loss: 0.5159 - accuracy: 0.4841\n",
      "Epoch 73/200\n",
      "82/82 [==============================] - 0s 2ms/step - loss: 0.5159 - accuracy: 0.4841\n",
      "Epoch 74/200\n",
      "82/82 [==============================] - 0s 2ms/step - loss: 0.5159 - accuracy: 0.4841\n",
      "Epoch 75/200\n",
      "82/82 [==============================] - 0s 2ms/step - loss: 0.5159 - accuracy: 0.4841\n",
      "Epoch 76/200\n",
      "82/82 [==============================] - 0s 2ms/step - loss: 0.5159 - accuracy: 0.4841\n",
      "Epoch 77/200\n",
      "82/82 [==============================] - 0s 3ms/step - loss: 0.5159 - accuracy: 0.4841\n",
      "Epoch 78/200\n",
      "82/82 [==============================] - 0s 2ms/step - loss: 0.5159 - accuracy: 0.4841\n",
      "Epoch 79/200\n",
      "82/82 [==============================] - 0s 2ms/step - loss: 0.5159 - accuracy: 0.4841\n",
      "Epoch 80/200\n",
      "82/82 [==============================] - 0s 3ms/step - loss: 0.5159 - accuracy: 0.4841\n",
      "Epoch 81/200\n",
      "82/82 [==============================] - 0s 2ms/step - loss: 0.5159 - accuracy: 0.4841\n",
      "Epoch 82/200\n",
      "82/82 [==============================] - 0s 2ms/step - loss: 0.5159 - accuracy: 0.4841\n",
      "Epoch 83/200\n",
      "82/82 [==============================] - 0s 2ms/step - loss: 0.5159 - accuracy: 0.4841\n",
      "Epoch 84/200\n",
      "82/82 [==============================] - 0s 2ms/step - loss: 0.5159 - accuracy: 0.4841\n",
      "Epoch 85/200\n",
      "82/82 [==============================] - 0s 2ms/step - loss: 0.5159 - accuracy: 0.4841\n",
      "Epoch 86/200\n",
      "82/82 [==============================] - 0s 2ms/step - loss: 0.5159 - accuracy: 0.4841\n",
      "Epoch 87/200\n",
      "82/82 [==============================] - 0s 2ms/step - loss: 0.5159 - accuracy: 0.4841\n",
      "Epoch 88/200\n",
      "82/82 [==============================] - 0s 3ms/step - loss: 0.5159 - accuracy: 0.4841\n",
      "Epoch 89/200\n",
      "82/82 [==============================] - 0s 2ms/step - loss: 0.5159 - accuracy: 0.4841\n",
      "Epoch 90/200\n",
      "82/82 [==============================] - 0s 2ms/step - loss: 0.5159 - accuracy: 0.4841\n",
      "Epoch 91/200\n",
      "82/82 [==============================] - 0s 2ms/step - loss: 0.5159 - accuracy: 0.4841\n",
      "Epoch 92/200\n",
      "82/82 [==============================] - 0s 2ms/step - loss: 0.5159 - accuracy: 0.4841\n",
      "Epoch 93/200\n",
      "82/82 [==============================] - 0s 3ms/step - loss: 0.5159 - accuracy: 0.4841\n",
      "Epoch 94/200\n",
      "82/82 [==============================] - 0s 3ms/step - loss: 0.5159 - accuracy: 0.4841\n",
      "Epoch 95/200\n",
      "82/82 [==============================] - 0s 2ms/step - loss: 0.5159 - accuracy: 0.4841\n",
      "Epoch 96/200\n",
      "82/82 [==============================] - 0s 2ms/step - loss: 0.5159 - accuracy: 0.4841\n",
      "Epoch 97/200\n",
      "82/82 [==============================] - 0s 3ms/step - loss: 0.5159 - accuracy: 0.4841\n",
      "Epoch 98/200\n",
      "82/82 [==============================] - 0s 2ms/step - loss: 0.5159 - accuracy: 0.4841\n",
      "Epoch 99/200\n",
      "82/82 [==============================] - 0s 2ms/step - loss: 0.5159 - accuracy: 0.4841\n",
      "Epoch 100/200\n",
      "82/82 [==============================] - 0s 2ms/step - loss: 0.5159 - accuracy: 0.4841\n",
      "Epoch 101/200\n",
      "82/82 [==============================] - 0s 2ms/step - loss: 0.5159 - accuracy: 0.4841\n",
      "Epoch 102/200\n",
      "82/82 [==============================] - 0s 2ms/step - loss: 0.5159 - accuracy: 0.4841\n",
      "Epoch 103/200\n",
      "82/82 [==============================] - 0s 2ms/step - loss: 0.5159 - accuracy: 0.4841\n",
      "Epoch 104/200\n",
      "82/82 [==============================] - 0s 2ms/step - loss: 0.5159 - accuracy: 0.4841\n",
      "Epoch 105/200\n",
      "82/82 [==============================] - 0s 2ms/step - loss: 0.5159 - accuracy: 0.4841\n",
      "Epoch 106/200\n",
      "82/82 [==============================] - 0s 2ms/step - loss: 0.5159 - accuracy: 0.4841\n",
      "Epoch 107/200\n",
      "82/82 [==============================] - 0s 2ms/step - loss: 0.5159 - accuracy: 0.4841\n",
      "Epoch 108/200\n",
      "82/82 [==============================] - 0s 2ms/step - loss: 0.5159 - accuracy: 0.4841\n",
      "Epoch 109/200\n",
      "82/82 [==============================] - 0s 2ms/step - loss: 0.5159 - accuracy: 0.4841\n",
      "Epoch 110/200\n",
      "82/82 [==============================] - 0s 2ms/step - loss: 0.5159 - accuracy: 0.4841\n",
      "Epoch 111/200\n",
      "82/82 [==============================] - 0s 2ms/step - loss: 0.5159 - accuracy: 0.4841\n",
      "Epoch 112/200\n",
      "82/82 [==============================] - 0s 2ms/step - loss: 0.5159 - accuracy: 0.4841\n",
      "Epoch 113/200\n",
      "82/82 [==============================] - 0s 2ms/step - loss: 0.5159 - accuracy: 0.4841\n",
      "Epoch 114/200\n",
      "82/82 [==============================] - 0s 3ms/step - loss: 0.5159 - accuracy: 0.4841\n",
      "Epoch 115/200\n",
      "82/82 [==============================] - 0s 3ms/step - loss: 0.5159 - accuracy: 0.4841\n",
      "Epoch 116/200\n",
      "82/82 [==============================] - 0s 2ms/step - loss: 0.5159 - accuracy: 0.4841\n",
      "Epoch 117/200\n",
      "82/82 [==============================] - 0s 2ms/step - loss: 0.5159 - accuracy: 0.4841\n",
      "Epoch 118/200\n",
      "82/82 [==============================] - 0s 2ms/step - loss: 0.5159 - accuracy: 0.4841\n",
      "Epoch 119/200\n",
      "82/82 [==============================] - 0s 2ms/step - loss: 0.5159 - accuracy: 0.4841\n",
      "Epoch 120/200\n",
      "82/82 [==============================] - 0s 2ms/step - loss: 0.5159 - accuracy: 0.4841\n",
      "Epoch 121/200\n",
      "82/82 [==============================] - 0s 2ms/step - loss: 0.5159 - accuracy: 0.4841\n",
      "Epoch 122/200\n",
      "82/82 [==============================] - 0s 2ms/step - loss: 0.5159 - accuracy: 0.4841\n",
      "Epoch 123/200\n",
      "82/82 [==============================] - 0s 2ms/step - loss: 0.5159 - accuracy: 0.4841\n",
      "Epoch 124/200\n",
      "82/82 [==============================] - 0s 2ms/step - loss: 0.5159 - accuracy: 0.4841\n",
      "Epoch 125/200\n",
      "82/82 [==============================] - 0s 2ms/step - loss: 0.5159 - accuracy: 0.4841\n",
      "Epoch 126/200\n",
      "82/82 [==============================] - 0s 2ms/step - loss: 0.5159 - accuracy: 0.4841\n",
      "Epoch 127/200\n",
      "82/82 [==============================] - 0s 2ms/step - loss: 0.5159 - accuracy: 0.4841\n",
      "Epoch 128/200\n",
      "82/82 [==============================] - 0s 2ms/step - loss: 0.5159 - accuracy: 0.4841\n",
      "Epoch 129/200\n",
      "82/82 [==============================] - 0s 2ms/step - loss: 0.5159 - accuracy: 0.4841\n",
      "Epoch 130/200\n",
      "82/82 [==============================] - 0s 2ms/step - loss: 0.5159 - accuracy: 0.4841\n",
      "Epoch 131/200\n",
      "82/82 [==============================] - 0s 2ms/step - loss: 0.5159 - accuracy: 0.4841\n",
      "Epoch 132/200\n",
      "82/82 [==============================] - 0s 2ms/step - loss: 0.5159 - accuracy: 0.4841\n",
      "Epoch 133/200\n",
      "82/82 [==============================] - 0s 2ms/step - loss: 0.5159 - accuracy: 0.4841\n",
      "Epoch 134/200\n",
      "82/82 [==============================] - 0s 2ms/step - loss: 0.5159 - accuracy: 0.4841\n",
      "Epoch 135/200\n",
      "82/82 [==============================] - 0s 2ms/step - loss: 0.5159 - accuracy: 0.4841\n",
      "Epoch 136/200\n",
      "82/82 [==============================] - 0s 2ms/step - loss: 0.5159 - accuracy: 0.4841\n",
      "Epoch 137/200\n",
      "82/82 [==============================] - 0s 2ms/step - loss: 0.5159 - accuracy: 0.4841\n",
      "Epoch 138/200\n",
      "82/82 [==============================] - 0s 2ms/step - loss: 0.5159 - accuracy: 0.4841\n",
      "Epoch 139/200\n",
      "82/82 [==============================] - 0s 2ms/step - loss: 0.5159 - accuracy: 0.4841\n",
      "Epoch 140/200\n",
      "82/82 [==============================] - 0s 2ms/step - loss: 0.5159 - accuracy: 0.4841\n",
      "Epoch 141/200\n",
      "82/82 [==============================] - 0s 2ms/step - loss: 0.5159 - accuracy: 0.4841\n",
      "Epoch 142/200\n",
      "82/82 [==============================] - 0s 2ms/step - loss: 0.5159 - accuracy: 0.4841\n",
      "Epoch 143/200\n",
      "82/82 [==============================] - 0s 2ms/step - loss: 0.5159 - accuracy: 0.4841\n",
      "Epoch 144/200\n",
      "82/82 [==============================] - 0s 2ms/step - loss: 0.5159 - accuracy: 0.4841\n",
      "Epoch 145/200\n",
      "82/82 [==============================] - 0s 2ms/step - loss: 0.5159 - accuracy: 0.4841\n",
      "Epoch 146/200\n",
      "82/82 [==============================] - 0s 2ms/step - loss: 0.5159 - accuracy: 0.4841\n",
      "Epoch 147/200\n",
      "82/82 [==============================] - 0s 2ms/step - loss: 0.5159 - accuracy: 0.4841\n",
      "Epoch 148/200\n",
      "82/82 [==============================] - 0s 2ms/step - loss: 0.5159 - accuracy: 0.4841\n",
      "Epoch 149/200\n",
      "82/82 [==============================] - 0s 2ms/step - loss: 0.5159 - accuracy: 0.4841\n",
      "Epoch 150/200\n",
      "82/82 [==============================] - 0s 2ms/step - loss: 0.5159 - accuracy: 0.4841\n",
      "Epoch 151/200\n",
      "82/82 [==============================] - 0s 2ms/step - loss: 0.5159 - accuracy: 0.4841\n",
      "Epoch 152/200\n",
      "82/82 [==============================] - 0s 2ms/step - loss: 0.5159 - accuracy: 0.4841\n",
      "Epoch 153/200\n",
      "82/82 [==============================] - 0s 2ms/step - loss: 0.5159 - accuracy: 0.4841\n",
      "Epoch 154/200\n",
      "82/82 [==============================] - 0s 2ms/step - loss: 0.5159 - accuracy: 0.4841\n",
      "Epoch 155/200\n",
      "82/82 [==============================] - 0s 2ms/step - loss: 0.5159 - accuracy: 0.4841\n",
      "Epoch 156/200\n",
      "82/82 [==============================] - 0s 2ms/step - loss: 0.5159 - accuracy: 0.4841\n",
      "Epoch 157/200\n",
      "82/82 [==============================] - 0s 2ms/step - loss: 0.5159 - accuracy: 0.4841\n",
      "Epoch 158/200\n",
      "82/82 [==============================] - 0s 2ms/step - loss: 0.5159 - accuracy: 0.4841\n",
      "Epoch 159/200\n",
      "82/82 [==============================] - 0s 2ms/step - loss: 0.5159 - accuracy: 0.4841\n",
      "Epoch 160/200\n",
      "82/82 [==============================] - 0s 2ms/step - loss: 0.5159 - accuracy: 0.4841\n",
      "Epoch 161/200\n",
      "82/82 [==============================] - 0s 2ms/step - loss: 0.5159 - accuracy: 0.4841\n",
      "Epoch 162/200\n",
      "82/82 [==============================] - 0s 2ms/step - loss: 0.5159 - accuracy: 0.4841\n",
      "Epoch 163/200\n",
      "82/82 [==============================] - 0s 2ms/step - loss: 0.5159 - accuracy: 0.4841\n",
      "Epoch 164/200\n",
      "82/82 [==============================] - 0s 2ms/step - loss: 0.5159 - accuracy: 0.4841\n",
      "Epoch 165/200\n",
      "82/82 [==============================] - 0s 2ms/step - loss: 0.5159 - accuracy: 0.4841\n",
      "Epoch 166/200\n",
      "82/82 [==============================] - 0s 2ms/step - loss: 0.5159 - accuracy: 0.4841\n",
      "Epoch 167/200\n",
      "82/82 [==============================] - 0s 2ms/step - loss: 0.5159 - accuracy: 0.4841\n",
      "Epoch 168/200\n",
      "82/82 [==============================] - 0s 2ms/step - loss: 0.5159 - accuracy: 0.4841\n",
      "Epoch 169/200\n",
      "82/82 [==============================] - 0s 2ms/step - loss: 0.5159 - accuracy: 0.4841\n",
      "Epoch 170/200\n",
      "82/82 [==============================] - 0s 2ms/step - loss: 0.5159 - accuracy: 0.4841\n",
      "Epoch 171/200\n",
      "82/82 [==============================] - 0s 2ms/step - loss: 0.5159 - accuracy: 0.4841\n",
      "Epoch 172/200\n",
      "82/82 [==============================] - 0s 2ms/step - loss: 0.5159 - accuracy: 0.4841\n",
      "Epoch 173/200\n",
      "82/82 [==============================] - 0s 2ms/step - loss: 0.5159 - accuracy: 0.4841\n",
      "Epoch 174/200\n",
      "82/82 [==============================] - 0s 2ms/step - loss: 0.5159 - accuracy: 0.4841\n",
      "Epoch 175/200\n",
      "82/82 [==============================] - 0s 2ms/step - loss: 0.5159 - accuracy: 0.4841\n",
      "Epoch 176/200\n",
      "82/82 [==============================] - 0s 2ms/step - loss: 0.5159 - accuracy: 0.4841\n",
      "Epoch 177/200\n",
      "82/82 [==============================] - 0s 2ms/step - loss: 0.5159 - accuracy: 0.4841\n",
      "Epoch 178/200\n",
      "82/82 [==============================] - 0s 2ms/step - loss: 0.5159 - accuracy: 0.4841\n",
      "Epoch 179/200\n",
      "82/82 [==============================] - 0s 2ms/step - loss: 0.5159 - accuracy: 0.4841\n",
      "Epoch 180/200\n",
      "82/82 [==============================] - 0s 2ms/step - loss: 0.5159 - accuracy: 0.4841\n",
      "Epoch 181/200\n",
      "82/82 [==============================] - 0s 3ms/step - loss: 0.5159 - accuracy: 0.4841\n",
      "Epoch 182/200\n",
      "82/82 [==============================] - 0s 2ms/step - loss: 0.5159 - accuracy: 0.4841\n",
      "Epoch 183/200\n",
      "82/82 [==============================] - 0s 3ms/step - loss: 0.5159 - accuracy: 0.4841\n",
      "Epoch 184/200\n",
      "82/82 [==============================] - 0s 2ms/step - loss: 0.5159 - accuracy: 0.4841\n",
      "Epoch 185/200\n",
      "82/82 [==============================] - 0s 2ms/step - loss: 0.5159 - accuracy: 0.4841\n",
      "Epoch 186/200\n",
      "82/82 [==============================] - 0s 3ms/step - loss: 0.5159 - accuracy: 0.4841\n",
      "Epoch 187/200\n",
      "82/82 [==============================] - 0s 3ms/step - loss: 0.5159 - accuracy: 0.4841\n",
      "Epoch 188/200\n",
      "82/82 [==============================] - 0s 2ms/step - loss: 0.5159 - accuracy: 0.4841\n",
      "Epoch 189/200\n",
      "82/82 [==============================] - 0s 2ms/step - loss: 0.5159 - accuracy: 0.4841\n",
      "Epoch 190/200\n",
      "82/82 [==============================] - 0s 3ms/step - loss: 0.5159 - accuracy: 0.4841\n",
      "Epoch 191/200\n",
      "82/82 [==============================] - 0s 2ms/step - loss: 0.5159 - accuracy: 0.4841\n",
      "Epoch 192/200\n",
      "82/82 [==============================] - 0s 2ms/step - loss: 0.5159 - accuracy: 0.4841\n",
      "Epoch 193/200\n",
      "82/82 [==============================] - 0s 2ms/step - loss: 0.5159 - accuracy: 0.4841\n",
      "Epoch 194/200\n",
      "82/82 [==============================] - 0s 2ms/step - loss: 0.5159 - accuracy: 0.4841\n",
      "Epoch 195/200\n",
      "82/82 [==============================] - 0s 2ms/step - loss: 0.5159 - accuracy: 0.4841\n",
      "Epoch 196/200\n",
      "82/82 [==============================] - 0s 2ms/step - loss: 0.5159 - accuracy: 0.4841\n",
      "Epoch 197/200\n",
      "82/82 [==============================] - 0s 2ms/step - loss: 0.5159 - accuracy: 0.4841\n",
      "Epoch 198/200\n",
      "82/82 [==============================] - 0s 2ms/step - loss: 0.5159 - accuracy: 0.4841\n",
      "Epoch 199/200\n",
      "82/82 [==============================] - 0s 2ms/step - loss: 0.5159 - accuracy: 0.4841\n",
      "Epoch 200/200\n",
      "82/82 [==============================] - 0s 2ms/step - loss: 0.5159 - accuracy: 0.4841\n"
     ]
    },
    {
     "data": {
      "text/plain": [
       "<keras.callbacks.History at 0x2859e137eb0>"
      ]
     },
     "execution_count": 18,
     "metadata": {},
     "output_type": "execute_result"
    }
   ],
   "source": [
    "model.compile(loss='mse', optimizer=optimizer, metrics=['accuracy'])\n",
    "model.fit(X_train, y_train, epochs=200, batch_size=10, verbose=1)"
   ]
  },
  {
   "cell_type": "code",
   "execution_count": 19,
   "metadata": {
    "colab": {
     "base_uri": "https://localhost:8080/"
    },
    "id": "eiohEm_BV4p2",
    "outputId": "c58f9174-baed-44a5-900f-95baaa643279"
   },
   "outputs": [
    {
     "name": "stdout",
     "output_type": "stream",
     "text": [
      "7/7 [==============================] - 0s 3ms/step - loss: 0.5024 - accuracy: 0.4976\n"
     ]
    },
    {
     "data": {
      "text/plain": [
       "[0.502439022064209, 0.497560977935791]"
      ]
     },
     "execution_count": 19,
     "metadata": {},
     "output_type": "execute_result"
    }
   ],
   "source": [
    "model.evaluate(X_test, y_test)"
   ]
  },
  {
   "cell_type": "markdown",
   "metadata": {
    "id": "lboE_ve_TrKB"
   },
   "source": [
    "### 7. Save the trained model in a variable, such as, history. Also, you can split your training data for validation such as 20% of training data"
   ]
  },
  {
   "cell_type": "code",
   "execution_count": 20,
   "metadata": {
    "colab": {
     "base_uri": "https://localhost:8080/"
    },
    "id": "IOG7I6DDTrKB",
    "outputId": "4e81f2f4-e523-4969-f680-011e84df8a9b"
   },
   "outputs": [
    {
     "name": "stdout",
     "output_type": "stream",
     "text": [
      "Epoch 1/100\n",
      "66/66 [==============================] - 1s 5ms/step - loss: 0.5137 - accuracy: 0.4863 - val_loss: 0.5244 - val_accuracy: 0.4756\n",
      "Epoch 2/100\n",
      "66/66 [==============================] - 0s 3ms/step - loss: 0.5137 - accuracy: 0.4863 - val_loss: 0.5244 - val_accuracy: 0.4756\n",
      "Epoch 3/100\n",
      "66/66 [==============================] - 0s 3ms/step - loss: 0.5137 - accuracy: 0.4863 - val_loss: 0.5244 - val_accuracy: 0.4756\n",
      "Epoch 4/100\n",
      "66/66 [==============================] - 0s 3ms/step - loss: 0.5137 - accuracy: 0.4863 - val_loss: 0.5244 - val_accuracy: 0.4756\n",
      "Epoch 5/100\n",
      "66/66 [==============================] - 0s 3ms/step - loss: 0.5137 - accuracy: 0.4863 - val_loss: 0.5244 - val_accuracy: 0.4756\n",
      "Epoch 6/100\n",
      "66/66 [==============================] - 0s 3ms/step - loss: 0.5137 - accuracy: 0.4863 - val_loss: 0.5244 - val_accuracy: 0.4756\n",
      "Epoch 7/100\n",
      "66/66 [==============================] - 0s 3ms/step - loss: 0.5137 - accuracy: 0.4863 - val_loss: 0.5244 - val_accuracy: 0.4756\n",
      "Epoch 8/100\n",
      "66/66 [==============================] - 0s 3ms/step - loss: 0.5137 - accuracy: 0.4863 - val_loss: 0.5244 - val_accuracy: 0.4756\n",
      "Epoch 9/100\n",
      "66/66 [==============================] - 0s 3ms/step - loss: 0.5137 - accuracy: 0.4863 - val_loss: 0.5244 - val_accuracy: 0.4756\n",
      "Epoch 10/100\n",
      "66/66 [==============================] - 0s 3ms/step - loss: 0.5137 - accuracy: 0.4863 - val_loss: 0.5244 - val_accuracy: 0.4756\n",
      "Epoch 11/100\n",
      "66/66 [==============================] - 0s 3ms/step - loss: 0.5137 - accuracy: 0.4863 - val_loss: 0.5244 - val_accuracy: 0.4756\n",
      "Epoch 12/100\n",
      "66/66 [==============================] - 0s 3ms/step - loss: 0.5137 - accuracy: 0.4863 - val_loss: 0.5244 - val_accuracy: 0.4756\n",
      "Epoch 13/100\n",
      "66/66 [==============================] - 0s 3ms/step - loss: 0.5137 - accuracy: 0.4863 - val_loss: 0.5244 - val_accuracy: 0.4756\n",
      "Epoch 14/100\n",
      "66/66 [==============================] - 0s 4ms/step - loss: 0.5137 - accuracy: 0.4863 - val_loss: 0.5244 - val_accuracy: 0.4756\n",
      "Epoch 15/100\n",
      "66/66 [==============================] - 0s 3ms/step - loss: 0.5137 - accuracy: 0.4863 - val_loss: 0.5244 - val_accuracy: 0.4756\n",
      "Epoch 16/100\n",
      "66/66 [==============================] - 0s 3ms/step - loss: 0.5137 - accuracy: 0.4863 - val_loss: 0.5244 - val_accuracy: 0.4756\n",
      "Epoch 17/100\n",
      "66/66 [==============================] - 0s 4ms/step - loss: 0.5137 - accuracy: 0.4863 - val_loss: 0.5244 - val_accuracy: 0.4756\n",
      "Epoch 18/100\n",
      "66/66 [==============================] - 0s 3ms/step - loss: 0.5137 - accuracy: 0.4863 - val_loss: 0.5244 - val_accuracy: 0.4756\n",
      "Epoch 19/100\n",
      "66/66 [==============================] - 0s 3ms/step - loss: 0.5137 - accuracy: 0.4863 - val_loss: 0.5244 - val_accuracy: 0.4756\n",
      "Epoch 20/100\n",
      "66/66 [==============================] - 0s 4ms/step - loss: 0.5137 - accuracy: 0.4863 - val_loss: 0.5244 - val_accuracy: 0.4756\n",
      "Epoch 21/100\n",
      "66/66 [==============================] - 0s 3ms/step - loss: 0.5137 - accuracy: 0.4863 - val_loss: 0.5244 - val_accuracy: 0.4756\n",
      "Epoch 22/100\n",
      "66/66 [==============================] - 0s 3ms/step - loss: 0.5137 - accuracy: 0.4863 - val_loss: 0.5244 - val_accuracy: 0.4756\n",
      "Epoch 23/100\n",
      "66/66 [==============================] - 0s 4ms/step - loss: 0.5137 - accuracy: 0.4863 - val_loss: 0.5244 - val_accuracy: 0.4756\n",
      "Epoch 24/100\n",
      "66/66 [==============================] - 0s 4ms/step - loss: 0.5137 - accuracy: 0.4863 - val_loss: 0.5244 - val_accuracy: 0.4756\n",
      "Epoch 25/100\n",
      "66/66 [==============================] - 0s 3ms/step - loss: 0.5137 - accuracy: 0.4863 - val_loss: 0.5244 - val_accuracy: 0.4756\n",
      "Epoch 26/100\n",
      "66/66 [==============================] - 0s 3ms/step - loss: 0.5137 - accuracy: 0.4863 - val_loss: 0.5244 - val_accuracy: 0.4756\n",
      "Epoch 27/100\n",
      "66/66 [==============================] - 0s 4ms/step - loss: 0.5137 - accuracy: 0.4863 - val_loss: 0.5244 - val_accuracy: 0.4756\n",
      "Epoch 28/100\n",
      "66/66 [==============================] - 0s 4ms/step - loss: 0.5137 - accuracy: 0.4863 - val_loss: 0.5244 - val_accuracy: 0.4756\n",
      "Epoch 29/100\n",
      "66/66 [==============================] - 0s 3ms/step - loss: 0.5137 - accuracy: 0.4863 - val_loss: 0.5244 - val_accuracy: 0.4756\n",
      "Epoch 30/100\n",
      "66/66 [==============================] - 0s 4ms/step - loss: 0.5137 - accuracy: 0.4863 - val_loss: 0.5244 - val_accuracy: 0.4756\n",
      "Epoch 31/100\n",
      "66/66 [==============================] - 0s 4ms/step - loss: 0.5137 - accuracy: 0.4863 - val_loss: 0.5244 - val_accuracy: 0.4756\n",
      "Epoch 32/100\n",
      "66/66 [==============================] - 0s 4ms/step - loss: 0.5137 - accuracy: 0.4863 - val_loss: 0.5244 - val_accuracy: 0.4756\n",
      "Epoch 33/100\n",
      "66/66 [==============================] - 0s 4ms/step - loss: 0.5137 - accuracy: 0.4863 - val_loss: 0.5244 - val_accuracy: 0.4756\n",
      "Epoch 34/100\n",
      "66/66 [==============================] - 0s 3ms/step - loss: 0.5137 - accuracy: 0.4863 - val_loss: 0.5244 - val_accuracy: 0.4756\n",
      "Epoch 35/100\n",
      "66/66 [==============================] - 0s 4ms/step - loss: 0.5137 - accuracy: 0.4863 - val_loss: 0.5244 - val_accuracy: 0.4756\n",
      "Epoch 36/100\n",
      "66/66 [==============================] - 0s 4ms/step - loss: 0.5137 - accuracy: 0.4863 - val_loss: 0.5244 - val_accuracy: 0.4756\n",
      "Epoch 37/100\n",
      "66/66 [==============================] - 0s 4ms/step - loss: 0.5137 - accuracy: 0.4863 - val_loss: 0.5244 - val_accuracy: 0.4756\n",
      "Epoch 38/100\n",
      "66/66 [==============================] - 0s 3ms/step - loss: 0.5137 - accuracy: 0.4863 - val_loss: 0.5244 - val_accuracy: 0.4756\n",
      "Epoch 39/100\n",
      "66/66 [==============================] - 0s 3ms/step - loss: 0.5137 - accuracy: 0.4863 - val_loss: 0.5244 - val_accuracy: 0.4756\n",
      "Epoch 40/100\n",
      "66/66 [==============================] - 0s 4ms/step - loss: 0.5137 - accuracy: 0.4863 - val_loss: 0.5244 - val_accuracy: 0.4756\n",
      "Epoch 41/100\n",
      "66/66 [==============================] - 0s 3ms/step - loss: 0.5137 - accuracy: 0.4863 - val_loss: 0.5244 - val_accuracy: 0.4756\n",
      "Epoch 42/100\n",
      "66/66 [==============================] - 0s 3ms/step - loss: 0.5137 - accuracy: 0.4863 - val_loss: 0.5244 - val_accuracy: 0.4756\n",
      "Epoch 43/100\n",
      "66/66 [==============================] - 0s 3ms/step - loss: 0.5137 - accuracy: 0.4863 - val_loss: 0.5244 - val_accuracy: 0.4756\n",
      "Epoch 44/100\n",
      "66/66 [==============================] - 0s 4ms/step - loss: 0.5137 - accuracy: 0.4863 - val_loss: 0.5244 - val_accuracy: 0.4756\n",
      "Epoch 45/100\n",
      "66/66 [==============================] - 0s 3ms/step - loss: 0.5137 - accuracy: 0.4863 - val_loss: 0.5244 - val_accuracy: 0.4756\n",
      "Epoch 46/100\n",
      "66/66 [==============================] - 0s 3ms/step - loss: 0.5137 - accuracy: 0.4863 - val_loss: 0.5244 - val_accuracy: 0.4756\n",
      "Epoch 47/100\n",
      "66/66 [==============================] - 0s 3ms/step - loss: 0.5137 - accuracy: 0.4863 - val_loss: 0.5244 - val_accuracy: 0.4756\n",
      "Epoch 48/100\n",
      "66/66 [==============================] - 0s 3ms/step - loss: 0.5137 - accuracy: 0.4863 - val_loss: 0.5244 - val_accuracy: 0.4756\n",
      "Epoch 49/100\n",
      "66/66 [==============================] - 0s 3ms/step - loss: 0.5137 - accuracy: 0.4863 - val_loss: 0.5244 - val_accuracy: 0.4756\n",
      "Epoch 50/100\n",
      "66/66 [==============================] - 0s 3ms/step - loss: 0.5137 - accuracy: 0.4863 - val_loss: 0.5244 - val_accuracy: 0.4756\n",
      "Epoch 51/100\n",
      "66/66 [==============================] - 0s 3ms/step - loss: 0.5137 - accuracy: 0.4863 - val_loss: 0.5244 - val_accuracy: 0.4756\n",
      "Epoch 52/100\n",
      "66/66 [==============================] - 0s 3ms/step - loss: 0.5137 - accuracy: 0.4863 - val_loss: 0.5244 - val_accuracy: 0.4756\n",
      "Epoch 53/100\n",
      "66/66 [==============================] - 0s 3ms/step - loss: 0.5137 - accuracy: 0.4863 - val_loss: 0.5244 - val_accuracy: 0.4756\n",
      "Epoch 54/100\n",
      "66/66 [==============================] - 0s 3ms/step - loss: 0.5137 - accuracy: 0.4863 - val_loss: 0.5244 - val_accuracy: 0.4756\n",
      "Epoch 55/100\n",
      "66/66 [==============================] - 0s 3ms/step - loss: 0.5137 - accuracy: 0.4863 - val_loss: 0.5244 - val_accuracy: 0.4756\n",
      "Epoch 56/100\n",
      "66/66 [==============================] - 0s 3ms/step - loss: 0.5137 - accuracy: 0.4863 - val_loss: 0.5244 - val_accuracy: 0.4756\n",
      "Epoch 57/100\n",
      "66/66 [==============================] - 0s 3ms/step - loss: 0.5137 - accuracy: 0.4863 - val_loss: 0.5244 - val_accuracy: 0.4756\n",
      "Epoch 58/100\n",
      "66/66 [==============================] - 0s 3ms/step - loss: 0.5137 - accuracy: 0.4863 - val_loss: 0.5244 - val_accuracy: 0.4756\n",
      "Epoch 59/100\n",
      "66/66 [==============================] - 0s 3ms/step - loss: 0.5137 - accuracy: 0.4863 - val_loss: 0.5244 - val_accuracy: 0.4756\n",
      "Epoch 60/100\n",
      "66/66 [==============================] - 0s 3ms/step - loss: 0.5137 - accuracy: 0.4863 - val_loss: 0.5244 - val_accuracy: 0.4756\n",
      "Epoch 61/100\n",
      "66/66 [==============================] - 0s 3ms/step - loss: 0.5137 - accuracy: 0.4863 - val_loss: 0.5244 - val_accuracy: 0.4756\n",
      "Epoch 62/100\n",
      "66/66 [==============================] - 0s 3ms/step - loss: 0.5137 - accuracy: 0.4863 - val_loss: 0.5244 - val_accuracy: 0.4756\n",
      "Epoch 63/100\n",
      "66/66 [==============================] - 0s 3ms/step - loss: 0.5137 - accuracy: 0.4863 - val_loss: 0.5244 - val_accuracy: 0.4756\n",
      "Epoch 64/100\n",
      "66/66 [==============================] - 0s 3ms/step - loss: 0.5137 - accuracy: 0.4863 - val_loss: 0.5244 - val_accuracy: 0.4756\n",
      "Epoch 65/100\n",
      "66/66 [==============================] - 0s 3ms/step - loss: 0.5137 - accuracy: 0.4863 - val_loss: 0.5244 - val_accuracy: 0.4756\n",
      "Epoch 66/100\n",
      "66/66 [==============================] - 0s 3ms/step - loss: 0.5137 - accuracy: 0.4863 - val_loss: 0.5244 - val_accuracy: 0.4756\n",
      "Epoch 67/100\n",
      "66/66 [==============================] - 0s 3ms/step - loss: 0.5137 - accuracy: 0.4863 - val_loss: 0.5244 - val_accuracy: 0.4756\n",
      "Epoch 68/100\n",
      "66/66 [==============================] - 0s 3ms/step - loss: 0.5137 - accuracy: 0.4863 - val_loss: 0.5244 - val_accuracy: 0.4756\n",
      "Epoch 69/100\n",
      "66/66 [==============================] - 0s 3ms/step - loss: 0.5137 - accuracy: 0.4863 - val_loss: 0.5244 - val_accuracy: 0.4756\n",
      "Epoch 70/100\n",
      "66/66 [==============================] - 0s 3ms/step - loss: 0.5137 - accuracy: 0.4863 - val_loss: 0.5244 - val_accuracy: 0.4756\n",
      "Epoch 71/100\n",
      "66/66 [==============================] - 0s 3ms/step - loss: 0.5137 - accuracy: 0.4863 - val_loss: 0.5244 - val_accuracy: 0.4756\n",
      "Epoch 72/100\n",
      "66/66 [==============================] - 0s 3ms/step - loss: 0.5137 - accuracy: 0.4863 - val_loss: 0.5244 - val_accuracy: 0.4756\n",
      "Epoch 73/100\n",
      "66/66 [==============================] - 0s 3ms/step - loss: 0.5137 - accuracy: 0.4863 - val_loss: 0.5244 - val_accuracy: 0.4756\n",
      "Epoch 74/100\n",
      "66/66 [==============================] - 0s 3ms/step - loss: 0.5137 - accuracy: 0.4863 - val_loss: 0.5244 - val_accuracy: 0.4756\n",
      "Epoch 75/100\n",
      "66/66 [==============================] - 0s 3ms/step - loss: 0.5137 - accuracy: 0.4863 - val_loss: 0.5244 - val_accuracy: 0.4756\n",
      "Epoch 76/100\n",
      "66/66 [==============================] - 0s 3ms/step - loss: 0.5137 - accuracy: 0.4863 - val_loss: 0.5244 - val_accuracy: 0.4756\n",
      "Epoch 77/100\n",
      "66/66 [==============================] - 0s 3ms/step - loss: 0.5137 - accuracy: 0.4863 - val_loss: 0.5244 - val_accuracy: 0.4756\n",
      "Epoch 78/100\n",
      "66/66 [==============================] - 0s 3ms/step - loss: 0.5137 - accuracy: 0.4863 - val_loss: 0.5244 - val_accuracy: 0.4756\n",
      "Epoch 79/100\n",
      "66/66 [==============================] - 0s 3ms/step - loss: 0.5137 - accuracy: 0.4863 - val_loss: 0.5244 - val_accuracy: 0.4756\n",
      "Epoch 80/100\n",
      "66/66 [==============================] - 0s 3ms/step - loss: 0.5137 - accuracy: 0.4863 - val_loss: 0.5244 - val_accuracy: 0.4756\n",
      "Epoch 81/100\n",
      "66/66 [==============================] - 0s 3ms/step - loss: 0.5137 - accuracy: 0.4863 - val_loss: 0.5244 - val_accuracy: 0.4756\n",
      "Epoch 82/100\n",
      "66/66 [==============================] - 0s 3ms/step - loss: 0.5137 - accuracy: 0.4863 - val_loss: 0.5244 - val_accuracy: 0.4756\n",
      "Epoch 83/100\n",
      "66/66 [==============================] - 0s 3ms/step - loss: 0.5137 - accuracy: 0.4863 - val_loss: 0.5244 - val_accuracy: 0.4756\n",
      "Epoch 84/100\n",
      "66/66 [==============================] - 0s 3ms/step - loss: 0.5137 - accuracy: 0.4863 - val_loss: 0.5244 - val_accuracy: 0.4756\n",
      "Epoch 85/100\n",
      "66/66 [==============================] - 0s 3ms/step - loss: 0.5137 - accuracy: 0.4863 - val_loss: 0.5244 - val_accuracy: 0.4756\n",
      "Epoch 86/100\n",
      "66/66 [==============================] - 0s 3ms/step - loss: 0.5137 - accuracy: 0.4863 - val_loss: 0.5244 - val_accuracy: 0.4756\n",
      "Epoch 87/100\n",
      "66/66 [==============================] - 0s 3ms/step - loss: 0.5137 - accuracy: 0.4863 - val_loss: 0.5244 - val_accuracy: 0.4756\n",
      "Epoch 88/100\n",
      "66/66 [==============================] - 0s 3ms/step - loss: 0.5137 - accuracy: 0.4863 - val_loss: 0.5244 - val_accuracy: 0.4756\n",
      "Epoch 89/100\n",
      "66/66 [==============================] - 0s 3ms/step - loss: 0.5137 - accuracy: 0.4863 - val_loss: 0.5244 - val_accuracy: 0.4756\n",
      "Epoch 90/100\n",
      "66/66 [==============================] - 0s 3ms/step - loss: 0.5137 - accuracy: 0.4863 - val_loss: 0.5244 - val_accuracy: 0.4756\n",
      "Epoch 91/100\n",
      "66/66 [==============================] - 0s 3ms/step - loss: 0.5137 - accuracy: 0.4863 - val_loss: 0.5244 - val_accuracy: 0.4756\n",
      "Epoch 92/100\n",
      "66/66 [==============================] - 0s 3ms/step - loss: 0.5137 - accuracy: 0.4863 - val_loss: 0.5244 - val_accuracy: 0.4756\n",
      "Epoch 93/100\n",
      "66/66 [==============================] - 0s 3ms/step - loss: 0.5137 - accuracy: 0.4863 - val_loss: 0.5244 - val_accuracy: 0.4756\n",
      "Epoch 94/100\n",
      "66/66 [==============================] - 0s 3ms/step - loss: 0.5137 - accuracy: 0.4863 - val_loss: 0.5244 - val_accuracy: 0.4756\n",
      "Epoch 95/100\n",
      "66/66 [==============================] - 0s 3ms/step - loss: 0.5137 - accuracy: 0.4863 - val_loss: 0.5244 - val_accuracy: 0.4756\n",
      "Epoch 96/100\n",
      "66/66 [==============================] - 0s 3ms/step - loss: 0.5137 - accuracy: 0.4863 - val_loss: 0.5244 - val_accuracy: 0.4756\n",
      "Epoch 97/100\n",
      "66/66 [==============================] - 0s 3ms/step - loss: 0.5137 - accuracy: 0.4863 - val_loss: 0.5244 - val_accuracy: 0.4756\n",
      "Epoch 98/100\n",
      "66/66 [==============================] - 0s 3ms/step - loss: 0.5137 - accuracy: 0.4863 - val_loss: 0.5244 - val_accuracy: 0.4756\n",
      "Epoch 99/100\n",
      "66/66 [==============================] - 0s 3ms/step - loss: 0.5137 - accuracy: 0.4863 - val_loss: 0.5244 - val_accuracy: 0.4756\n",
      "Epoch 100/100\n",
      "66/66 [==============================] - 0s 3ms/step - loss: 0.5137 - accuracy: 0.4863 - val_loss: 0.5244 - val_accuracy: 0.4756\n"
     ]
    }
   ],
   "source": [
    "history = model.fit(X_train, y_train, validation_split=0.2, epochs=100, batch_size=10, verbose=1)"
   ]
  },
  {
   "cell_type": "markdown",
   "metadata": {
    "id": "PDSwIf3ATrKC"
   },
   "source": [
    "### 8. Evaluate the trained model to predict the probability values for the test data set (ie., xtest and ytest)"
   ]
  },
  {
   "cell_type": "code",
   "execution_count": 21,
   "metadata": {
    "colab": {
     "base_uri": "https://localhost:8080/"
    },
    "id": "Gjli5DmRTrKC",
    "outputId": "2b2805ab-f61c-4a65-d828-53b18da3adff"
   },
   "outputs": [
    {
     "name": "stdout",
     "output_type": "stream",
     "text": [
      "7/7 [==============================] - 0s 2ms/step - loss: 0.5024 - accuracy: 0.4976\n"
     ]
    },
    {
     "data": {
      "text/plain": [
       "[0.502439022064209, 0.497560977935791]"
      ]
     },
     "execution_count": 21,
     "metadata": {},
     "output_type": "execute_result"
    }
   ],
   "source": [
    "model.evaluate(X_test, y_test)"
   ]
  },
  {
   "cell_type": "markdown",
   "metadata": {
    "id": "tbfKzFnlTrKC"
   },
   "source": [
    "### 9. Print the model accuracy and model loss as below (Use can use the ‘history’ object we have saved). Sample code is given below."
   ]
  },
  {
   "cell_type": "code",
   "execution_count": 22,
   "metadata": {
    "colab": {
     "base_uri": "https://localhost:8080/"
    },
    "id": "8wGO8PEAWLjd",
    "outputId": "efa3c5cb-91e4-4724-9839-d4eb4798568d"
   },
   "outputs": [
    {
     "data": {
      "text/plain": [
       "dict_keys(['loss', 'accuracy', 'val_loss', 'val_accuracy'])"
      ]
     },
     "execution_count": 22,
     "metadata": {},
     "output_type": "execute_result"
    }
   ],
   "source": [
    "history.history.keys()"
   ]
  },
  {
   "cell_type": "code",
   "execution_count": 23,
   "metadata": {
    "id": "RvXwKRVIWP7M"
   },
   "outputs": [],
   "source": [
    "import matplotlib.pyplot as plt"
   ]
  },
  {
   "cell_type": "code",
   "execution_count": 24,
   "metadata": {
    "colab": {
     "base_uri": "https://localhost:8080/",
     "height": 573
    },
    "id": "V76lIr0ETrKC",
    "outputId": "323749dc-699f-4115-a5ee-45d0ffcfc023"
   },
   "outputs": [
    {
     "data": {
      "image/png": "[encoded data removed]",
      "text/plain": [
       "<Figure size 432x288 with 1 Axes>"
      ]
     },
     "metadata": {
      "needs_background": "light"
     },
     "output_type": "display_data"
    },
    {
     "data": {
      "image/png": "[encoded data removed]",
      "text/plain": [
       "<Figure size 432x288 with 1 Axes>"
      ]
     },
     "metadata": {
      "needs_background": "light"
     },
     "output_type": "display_data"
    }
   ],
   "source": [
    "plt.plot(history.history['accuracy'])\n",
    "plt.plot(history.history['val_accuracy'])\n",
    "plt.title('Model Accuracy')\n",
    "plt.ylabel('accuracy')\n",
    "plt.xlabel('epoch')\n",
    "plt.legend(['Train', 'Validation'])\n",
    "plt.show()\n",
    "plt.plot(history.history['loss'])\n",
    "plt.plot(history.history['val_loss'])\n",
    "plt.title('Model Loss')\n",
    "plt.ylabel('loss')\n",
    "plt.xlabel('epoch')\n",
    "plt.legend(['Train', 'Validation'])\n",
    "plt.show()"
   ]
  },
  {
   "cell_type": "code",
   "execution_count": 25,
   "metadata": {
    "id": "gDOMJ954TrKF"
   },
   "outputs": [],
   "source": [
    "model1 = Sequential()\n",
    "model1.add(Dense(16, input_dim=13, activation='relu'))\n",
    "model1.add(Dense(8, activation='relu'))\n",
    "model1.add(Dense(1, activation='sigmoid'))"
   ]
  },
  {
   "cell_type": "code",
   "execution_count": 26,
   "metadata": {
    "colab": {
     "base_uri": "https://localhost:8080/"
    },
    "id": "wOxOLKoNWsWz",
    "outputId": "7576f02a-eb9a-40f5-bc71-df5a43ab1b3b"
   },
   "outputs": [
    {
     "name": "stdout",
     "output_type": "stream",
     "text": [
      "Epoch 1/10\n",
      "28/28 [==============================] - 1s 2ms/step - loss: 0.3976 - accuracy: 0.5671\n",
      "Epoch 2/10\n",
      "28/28 [==============================] - 0s 3ms/step - loss: 0.2572 - accuracy: 0.6720\n",
      "Epoch 3/10\n",
      "28/28 [==============================] - 0s 2ms/step - loss: 0.2396 - accuracy: 0.6890\n",
      "Epoch 4/10\n",
      "28/28 [==============================] - 0s 3ms/step - loss: 0.2354 - accuracy: 0.6890\n",
      "Epoch 5/10\n",
      "28/28 [==============================] - 0s 3ms/step - loss: 0.2323 - accuracy: 0.6841\n",
      "Epoch 6/10\n",
      "28/28 [==============================] - 0s 2ms/step - loss: 0.2166 - accuracy: 0.7037\n",
      "Epoch 7/10\n",
      "28/28 [==============================] - 0s 3ms/step - loss: 0.2081 - accuracy: 0.7134\n",
      "Epoch 8/10\n",
      "28/28 [==============================] - 0s 2ms/step - loss: 0.2122 - accuracy: 0.7061\n",
      "Epoch 9/10\n",
      "28/28 [==============================] - 0s 2ms/step - loss: 0.2119 - accuracy: 0.6963\n",
      "Epoch 10/10\n",
      "28/28 [==============================] - 0s 2ms/step - loss: 0.2016 - accuracy: 0.7195\n"
     ]
    },
    {
     "data": {
      "text/plain": [
       "<keras.callbacks.History at 0x2859cdf2190>"
      ]
     },
     "execution_count": 26,
     "metadata": {},
     "output_type": "execute_result"
    }
   ],
   "source": [
    "model1.compile(loss='mse', optimizer=optimizer, metrics=['accuracy'])\n",
    "model1.fit(X_train, y_train, epochs=10, batch_size=30, verbose=1)"
   ]
  },
  {
   "cell_type": "code",
   "execution_count": 27,
   "metadata": {
    "colab": {
     "base_uri": "https://localhost:8080/"
    },
    "id": "Hp1gP1nYWsZh",
    "outputId": "48968f69-0027-482b-b7df-908edd6e9e3a"
   },
   "outputs": [
    {
     "name": "stdout",
     "output_type": "stream",
     "text": [
      "7/7 [==============================] - 0s 3ms/step - loss: 0.2337 - accuracy: 0.6927\n"
     ]
    },
    {
     "data": {
      "text/plain": [
       "[0.23374135792255402, 0.6926829218864441]"
      ]
     },
     "execution_count": 27,
     "metadata": {},
     "output_type": "execute_result"
    }
   ],
   "source": [
    "model1.evaluate(X_test, y_test)"
   ]
  },
  {
   "cell_type": "code",
   "execution_count": 28,
   "metadata": {
    "colab": {
     "base_uri": "https://localhost:8080/"
    },
    "id": "0SUAhmflWsb2",
    "outputId": "0c7ed0a7-f50d-4d06-e796-adab57224f29"
   },
   "outputs": [
    {
     "name": "stdout",
     "output_type": "stream",
     "text": [
      "Epoch 1/100\n",
      "66/66 [==============================] - 0s 4ms/step - loss: 0.5137 - accuracy: 0.4863 - val_loss: 0.5244 - val_accuracy: 0.4756\n",
      "Epoch 2/100\n",
      "66/66 [==============================] - 0s 3ms/step - loss: 0.5137 - accuracy: 0.4863 - val_loss: 0.5244 - val_accuracy: 0.4756\n",
      "Epoch 3/100\n",
      "66/66 [==============================] - 0s 3ms/step - loss: 0.5137 - accuracy: 0.4863 - val_loss: 0.5244 - val_accuracy: 0.4756\n",
      "Epoch 4/100\n",
      "66/66 [==============================] - 0s 3ms/step - loss: 0.5137 - accuracy: 0.4863 - val_loss: 0.5244 - val_accuracy: 0.4756\n",
      "Epoch 5/100\n",
      "66/66 [==============================] - 0s 3ms/step - loss: 0.5137 - accuracy: 0.4863 - val_loss: 0.5244 - val_accuracy: 0.4756\n",
      "Epoch 6/100\n",
      "66/66 [==============================] - 0s 3ms/step - loss: 0.5137 - accuracy: 0.4863 - val_loss: 0.5244 - val_accuracy: 0.4756\n",
      "Epoch 7/100\n",
      "66/66 [==============================] - 0s 3ms/step - loss: 0.5137 - accuracy: 0.4863 - val_loss: 0.5244 - val_accuracy: 0.4756\n",
      "Epoch 8/100\n",
      "66/66 [==============================] - 0s 3ms/step - loss: 0.5137 - accuracy: 0.4863 - val_loss: 0.5244 - val_accuracy: 0.4756\n",
      "Epoch 9/100\n",
      "66/66 [==============================] - 0s 3ms/step - loss: 0.5137 - accuracy: 0.4863 - val_loss: 0.5244 - val_accuracy: 0.4756\n",
      "Epoch 10/100\n",
      "66/66 [==============================] - 0s 3ms/step - loss: 0.5137 - accuracy: 0.4863 - val_loss: 0.5244 - val_accuracy: 0.4756\n",
      "Epoch 11/100\n",
      "66/66 [==============================] - 0s 3ms/step - loss: 0.5137 - accuracy: 0.4863 - val_loss: 0.5244 - val_accuracy: 0.4756\n",
      "Epoch 12/100\n",
      "66/66 [==============================] - 0s 3ms/step - loss: 0.5137 - accuracy: 0.4863 - val_loss: 0.5244 - val_accuracy: 0.4756\n",
      "Epoch 13/100\n",
      "66/66 [==============================] - 0s 3ms/step - loss: 0.5137 - accuracy: 0.4863 - val_loss: 0.5244 - val_accuracy: 0.4756\n",
      "Epoch 14/100\n",
      "66/66 [==============================] - 0s 3ms/step - loss: 0.5137 - accuracy: 0.4863 - val_loss: 0.5244 - val_accuracy: 0.4756\n",
      "Epoch 15/100\n",
      "66/66 [==============================] - 0s 3ms/step - loss: 0.5137 - accuracy: 0.4863 - val_loss: 0.5244 - val_accuracy: 0.4756\n",
      "Epoch 16/100\n",
      "66/66 [==============================] - 0s 3ms/step - loss: 0.5137 - accuracy: 0.4863 - val_loss: 0.5244 - val_accuracy: 0.4756\n",
      "Epoch 17/100\n",
      "66/66 [==============================] - 0s 4ms/step - loss: 0.5137 - accuracy: 0.4863 - val_loss: 0.5244 - val_accuracy: 0.4756\n",
      "Epoch 18/100\n",
      "66/66 [==============================] - 0s 4ms/step - loss: 0.5137 - accuracy: 0.4863 - val_loss: 0.5244 - val_accuracy: 0.4756\n",
      "Epoch 19/100\n",
      "66/66 [==============================] - 0s 3ms/step - loss: 0.5137 - accuracy: 0.4863 - val_loss: 0.5244 - val_accuracy: 0.4756\n",
      "Epoch 20/100\n",
      "66/66 [==============================] - 0s 3ms/step - loss: 0.5137 - accuracy: 0.4863 - val_loss: 0.5244 - val_accuracy: 0.4756\n",
      "Epoch 21/100\n",
      "66/66 [==============================] - 0s 4ms/step - loss: 0.5137 - accuracy: 0.4863 - val_loss: 0.5244 - val_accuracy: 0.4756\n",
      "Epoch 22/100\n",
      "66/66 [==============================] - 0s 4ms/step - loss: 0.5137 - accuracy: 0.4863 - val_loss: 0.5244 - val_accuracy: 0.4756\n",
      "Epoch 23/100\n",
      "66/66 [==============================] - 0s 5ms/step - loss: 0.5137 - accuracy: 0.4863 - val_loss: 0.5244 - val_accuracy: 0.4756\n",
      "Epoch 24/100\n",
      "66/66 [==============================] - 0s 5ms/step - loss: 0.5137 - accuracy: 0.4863 - val_loss: 0.5244 - val_accuracy: 0.4756\n",
      "Epoch 25/100\n",
      "66/66 [==============================] - 0s 4ms/step - loss: 0.5137 - accuracy: 0.4863 - val_loss: 0.5244 - val_accuracy: 0.4756\n",
      "Epoch 26/100\n",
      "66/66 [==============================] - 0s 4ms/step - loss: 0.5137 - accuracy: 0.4863 - val_loss: 0.5244 - val_accuracy: 0.4756\n",
      "Epoch 27/100\n",
      "66/66 [==============================] - 0s 3ms/step - loss: 0.5137 - accuracy: 0.4863 - val_loss: 0.5244 - val_accuracy: 0.4756\n",
      "Epoch 28/100\n",
      "66/66 [==============================] - 0s 3ms/step - loss: 0.5137 - accuracy: 0.4863 - val_loss: 0.5244 - val_accuracy: 0.4756\n",
      "Epoch 29/100\n",
      "66/66 [==============================] - 0s 3ms/step - loss: 0.5137 - accuracy: 0.4863 - val_loss: 0.5244 - val_accuracy: 0.4756\n",
      "Epoch 30/100\n",
      "66/66 [==============================] - 0s 3ms/step - loss: 0.5137 - accuracy: 0.4863 - val_loss: 0.5244 - val_accuracy: 0.4756\n",
      "Epoch 31/100\n",
      "66/66 [==============================] - 0s 3ms/step - loss: 0.5137 - accuracy: 0.4863 - val_loss: 0.5244 - val_accuracy: 0.4756\n",
      "Epoch 32/100\n",
      "66/66 [==============================] - 0s 3ms/step - loss: 0.5137 - accuracy: 0.4863 - val_loss: 0.5244 - val_accuracy: 0.4756\n",
      "Epoch 33/100\n",
      "66/66 [==============================] - 0s 4ms/step - loss: 0.5137 - accuracy: 0.4863 - val_loss: 0.5244 - val_accuracy: 0.4756\n",
      "Epoch 34/100\n",
      "66/66 [==============================] - 0s 3ms/step - loss: 0.5137 - accuracy: 0.4863 - val_loss: 0.5244 - val_accuracy: 0.4756\n",
      "Epoch 35/100\n",
      "66/66 [==============================] - 0s 3ms/step - loss: 0.5137 - accuracy: 0.4863 - val_loss: 0.5244 - val_accuracy: 0.4756\n",
      "Epoch 36/100\n",
      "66/66 [==============================] - 0s 3ms/step - loss: 0.5137 - accuracy: 0.4863 - val_loss: 0.5244 - val_accuracy: 0.4756\n",
      "Epoch 37/100\n",
      "66/66 [==============================] - 0s 3ms/step - loss: 0.5137 - accuracy: 0.4863 - val_loss: 0.5244 - val_accuracy: 0.4756\n",
      "Epoch 38/100\n",
      "66/66 [==============================] - 0s 3ms/step - loss: 0.5137 - accuracy: 0.4863 - val_loss: 0.5244 - val_accuracy: 0.4756\n",
      "Epoch 39/100\n",
      "66/66 [==============================] - 0s 3ms/step - loss: 0.5137 - accuracy: 0.4863 - val_loss: 0.5244 - val_accuracy: 0.4756\n",
      "Epoch 40/100\n",
      "66/66 [==============================] - 0s 3ms/step - loss: 0.5137 - accuracy: 0.4863 - val_loss: 0.5244 - val_accuracy: 0.4756\n",
      "Epoch 41/100\n",
      "66/66 [==============================] - 0s 3ms/step - loss: 0.5137 - accuracy: 0.4863 - val_loss: 0.5244 - val_accuracy: 0.4756\n",
      "Epoch 42/100\n",
      "66/66 [==============================] - 0s 3ms/step - loss: 0.5137 - accuracy: 0.4863 - val_loss: 0.5244 - val_accuracy: 0.4756\n",
      "Epoch 43/100\n",
      "66/66 [==============================] - 0s 3ms/step - loss: 0.5137 - accuracy: 0.4863 - val_loss: 0.5244 - val_accuracy: 0.4756\n",
      "Epoch 44/100\n",
      "66/66 [==============================] - 0s 3ms/step - loss: 0.5137 - accuracy: 0.4863 - val_loss: 0.5244 - val_accuracy: 0.4756\n",
      "Epoch 45/100\n",
      "66/66 [==============================] - 0s 3ms/step - loss: 0.5137 - accuracy: 0.4863 - val_loss: 0.5244 - val_accuracy: 0.4756\n",
      "Epoch 46/100\n",
      "66/66 [==============================] - 0s 3ms/step - loss: 0.5137 - accuracy: 0.4863 - val_loss: 0.5244 - val_accuracy: 0.4756\n",
      "Epoch 47/100\n",
      "66/66 [==============================] - 0s 3ms/step - loss: 0.5137 - accuracy: 0.4863 - val_loss: 0.5244 - val_accuracy: 0.4756\n",
      "Epoch 48/100\n",
      "66/66 [==============================] - 0s 3ms/step - loss: 0.5137 - accuracy: 0.4863 - val_loss: 0.5244 - val_accuracy: 0.4756\n",
      "Epoch 49/100\n",
      "66/66 [==============================] - 0s 3ms/step - loss: 0.5137 - accuracy: 0.4863 - val_loss: 0.5244 - val_accuracy: 0.4756\n",
      "Epoch 50/100\n",
      "66/66 [==============================] - 0s 3ms/step - loss: 0.5137 - accuracy: 0.4863 - val_loss: 0.5244 - val_accuracy: 0.4756\n",
      "Epoch 51/100\n",
      "66/66 [==============================] - 0s 3ms/step - loss: 0.5137 - accuracy: 0.4863 - val_loss: 0.5244 - val_accuracy: 0.4756\n",
      "Epoch 52/100\n",
      "66/66 [==============================] - 0s 3ms/step - loss: 0.5137 - accuracy: 0.4863 - val_loss: 0.5244 - val_accuracy: 0.4756\n",
      "Epoch 53/100\n",
      "66/66 [==============================] - 0s 3ms/step - loss: 0.5137 - accuracy: 0.4863 - val_loss: 0.5244 - val_accuracy: 0.4756\n",
      "Epoch 54/100\n",
      "66/66 [==============================] - 0s 3ms/step - loss: 0.5137 - accuracy: 0.4863 - val_loss: 0.5244 - val_accuracy: 0.4756\n",
      "Epoch 55/100\n",
      "66/66 [==============================] - 0s 3ms/step - loss: 0.5137 - accuracy: 0.4863 - val_loss: 0.5244 - val_accuracy: 0.4756\n",
      "Epoch 56/100\n",
      "66/66 [==============================] - 0s 3ms/step - loss: 0.5137 - accuracy: 0.4863 - val_loss: 0.5244 - val_accuracy: 0.4756\n",
      "Epoch 57/100\n",
      "66/66 [==============================] - 0s 3ms/step - loss: 0.5137 - accuracy: 0.4863 - val_loss: 0.5244 - val_accuracy: 0.4756\n",
      "Epoch 58/100\n",
      "66/66 [==============================] - 0s 3ms/step - loss: 0.5137 - accuracy: 0.4863 - val_loss: 0.5244 - val_accuracy: 0.4756\n",
      "Epoch 59/100\n",
      "66/66 [==============================] - 0s 3ms/step - loss: 0.5137 - accuracy: 0.4863 - val_loss: 0.5244 - val_accuracy: 0.4756\n",
      "Epoch 60/100\n",
      "66/66 [==============================] - 0s 3ms/step - loss: 0.5137 - accuracy: 0.4863 - val_loss: 0.5244 - val_accuracy: 0.4756\n",
      "Epoch 61/100\n",
      "66/66 [==============================] - 0s 3ms/step - loss: 0.5137 - accuracy: 0.4863 - val_loss: 0.5244 - val_accuracy: 0.4756\n",
      "Epoch 62/100\n",
      "66/66 [==============================] - 0s 3ms/step - loss: 0.5137 - accuracy: 0.4863 - val_loss: 0.5244 - val_accuracy: 0.4756\n",
      "Epoch 63/100\n",
      "66/66 [==============================] - 0s 3ms/step - loss: 0.5137 - accuracy: 0.4863 - val_loss: 0.5244 - val_accuracy: 0.4756\n",
      "Epoch 64/100\n",
      "66/66 [==============================] - 0s 3ms/step - loss: 0.5137 - accuracy: 0.4863 - val_loss: 0.5244 - val_accuracy: 0.4756\n",
      "Epoch 65/100\n",
      "66/66 [==============================] - 0s 3ms/step - loss: 0.5137 - accuracy: 0.4863 - val_loss: 0.5244 - val_accuracy: 0.4756\n",
      "Epoch 66/100\n",
      "66/66 [==============================] - 0s 3ms/step - loss: 0.5137 - accuracy: 0.4863 - val_loss: 0.5244 - val_accuracy: 0.4756\n",
      "Epoch 67/100\n",
      "66/66 [==============================] - 0s 3ms/step - loss: 0.5137 - accuracy: 0.4863 - val_loss: 0.5244 - val_accuracy: 0.4756\n",
      "Epoch 68/100\n",
      "66/66 [==============================] - 0s 3ms/step - loss: 0.5137 - accuracy: 0.4863 - val_loss: 0.5244 - val_accuracy: 0.4756\n",
      "Epoch 69/100\n",
      "66/66 [==============================] - 0s 3ms/step - loss: 0.5137 - accuracy: 0.4863 - val_loss: 0.5244 - val_accuracy: 0.4756\n",
      "Epoch 70/100\n",
      "66/66 [==============================] - 0s 3ms/step - loss: 0.5137 - accuracy: 0.4863 - val_loss: 0.5244 - val_accuracy: 0.4756\n",
      "Epoch 71/100\n",
      "66/66 [==============================] - 0s 3ms/step - loss: 0.5137 - accuracy: 0.4863 - val_loss: 0.5244 - val_accuracy: 0.4756\n",
      "Epoch 72/100\n",
      "66/66 [==============================] - 0s 3ms/step - loss: 0.5137 - accuracy: 0.4863 - val_loss: 0.5244 - val_accuracy: 0.4756\n",
      "Epoch 73/100\n",
      "66/66 [==============================] - 0s 3ms/step - loss: 0.5137 - accuracy: 0.4863 - val_loss: 0.5244 - val_accuracy: 0.4756\n",
      "Epoch 74/100\n",
      "66/66 [==============================] - 0s 3ms/step - loss: 0.5137 - accuracy: 0.4863 - val_loss: 0.5244 - val_accuracy: 0.4756\n",
      "Epoch 75/100\n",
      "66/66 [==============================] - 0s 3ms/step - loss: 0.5137 - accuracy: 0.4863 - val_loss: 0.5244 - val_accuracy: 0.4756\n",
      "Epoch 76/100\n",
      "66/66 [==============================] - 0s 3ms/step - loss: 0.5137 - accuracy: 0.4863 - val_loss: 0.5244 - val_accuracy: 0.4756\n",
      "Epoch 77/100\n",
      "66/66 [==============================] - 0s 3ms/step - loss: 0.5137 - accuracy: 0.4863 - val_loss: 0.5244 - val_accuracy: 0.4756\n",
      "Epoch 78/100\n",
      "66/66 [==============================] - 0s 3ms/step - loss: 0.5137 - accuracy: 0.4863 - val_loss: 0.5244 - val_accuracy: 0.4756\n",
      "Epoch 79/100\n",
      "66/66 [==============================] - 0s 3ms/step - loss: 0.5137 - accuracy: 0.4863 - val_loss: 0.5244 - val_accuracy: 0.4756\n",
      "Epoch 80/100\n",
      "66/66 [==============================] - 0s 3ms/step - loss: 0.5137 - accuracy: 0.4863 - val_loss: 0.5244 - val_accuracy: 0.4756\n",
      "Epoch 81/100\n",
      "66/66 [==============================] - 0s 3ms/step - loss: 0.5137 - accuracy: 0.4863 - val_loss: 0.5244 - val_accuracy: 0.4756\n",
      "Epoch 82/100\n",
      "66/66 [==============================] - 0s 3ms/step - loss: 0.5137 - accuracy: 0.4863 - val_loss: 0.5244 - val_accuracy: 0.4756\n",
      "Epoch 83/100\n",
      "66/66 [==============================] - 0s 3ms/step - loss: 0.5137 - accuracy: 0.4863 - val_loss: 0.5244 - val_accuracy: 0.4756\n",
      "Epoch 84/100\n",
      "66/66 [==============================] - 0s 3ms/step - loss: 0.5137 - accuracy: 0.4863 - val_loss: 0.5244 - val_accuracy: 0.4756\n",
      "Epoch 85/100\n",
      "66/66 [==============================] - 0s 3ms/step - loss: 0.5137 - accuracy: 0.4863 - val_loss: 0.5244 - val_accuracy: 0.4756\n",
      "Epoch 86/100\n",
      "66/66 [==============================] - 0s 3ms/step - loss: 0.5137 - accuracy: 0.4863 - val_loss: 0.5244 - val_accuracy: 0.4756\n",
      "Epoch 87/100\n",
      "66/66 [==============================] - 0s 3ms/step - loss: 0.5137 - accuracy: 0.4863 - val_loss: 0.5244 - val_accuracy: 0.4756\n",
      "Epoch 88/100\n",
      "66/66 [==============================] - 0s 3ms/step - loss: 0.5137 - accuracy: 0.4863 - val_loss: 0.5244 - val_accuracy: 0.4756\n",
      "Epoch 89/100\n",
      "66/66 [==============================] - 0s 3ms/step - loss: 0.5137 - accuracy: 0.4863 - val_loss: 0.5244 - val_accuracy: 0.4756\n",
      "Epoch 90/100\n",
      "66/66 [==============================] - 0s 3ms/step - loss: 0.5137 - accuracy: 0.4863 - val_loss: 0.5244 - val_accuracy: 0.4756\n",
      "Epoch 91/100\n",
      "66/66 [==============================] - 0s 3ms/step - loss: 0.5137 - accuracy: 0.4863 - val_loss: 0.5244 - val_accuracy: 0.4756\n",
      "Epoch 92/100\n",
      "66/66 [==============================] - 0s 3ms/step - loss: 0.5137 - accuracy: 0.4863 - val_loss: 0.5244 - val_accuracy: 0.4756\n",
      "Epoch 93/100\n",
      "66/66 [==============================] - 0s 3ms/step - loss: 0.5137 - accuracy: 0.4863 - val_loss: 0.5244 - val_accuracy: 0.4756\n",
      "Epoch 94/100\n",
      "66/66 [==============================] - 0s 3ms/step - loss: 0.5137 - accuracy: 0.4863 - val_loss: 0.5244 - val_accuracy: 0.4756\n",
      "Epoch 95/100\n",
      "66/66 [==============================] - 0s 3ms/step - loss: 0.5137 - accuracy: 0.4863 - val_loss: 0.5244 - val_accuracy: 0.4756\n",
      "Epoch 96/100\n",
      "66/66 [==============================] - 0s 3ms/step - loss: 0.5137 - accuracy: 0.4863 - val_loss: 0.5244 - val_accuracy: 0.4756\n",
      "Epoch 97/100\n",
      "66/66 [==============================] - 0s 3ms/step - loss: 0.5137 - accuracy: 0.4863 - val_loss: 0.5244 - val_accuracy: 0.4756\n",
      "Epoch 98/100\n",
      "66/66 [==============================] - 0s 3ms/step - loss: 0.5137 - accuracy: 0.4863 - val_loss: 0.5244 - val_accuracy: 0.4756\n",
      "Epoch 99/100\n",
      "66/66 [==============================] - 0s 3ms/step - loss: 0.5137 - accuracy: 0.4863 - val_loss: 0.5244 - val_accuracy: 0.4756\n",
      "Epoch 100/100\n",
      "66/66 [==============================] - 0s 3ms/step - loss: 0.5137 - accuracy: 0.4863 - val_loss: 0.5244 - val_accuracy: 0.4756\n"
     ]
    }
   ],
   "source": [
    "history1 = model.fit(X_train, y_train, validation_split=0.2, epochs=100, batch_size=10, verbose=1)"
   ]
  },
  {
   "cell_type": "code",
   "execution_count": 29,
   "metadata": {
    "colab": {
     "base_uri": "https://localhost:8080/"
    },
    "id": "C9UkH5rIWseC",
    "outputId": "2e47400b-4a0e-4853-8b58-42ceb2251793"
   },
   "outputs": [
    {
     "name": "stdout",
     "output_type": "stream",
     "text": [
      "Model: \"sequential_1\"\n",
      "_________________________________________________________________\n",
      " Layer (type)                Output Shape              Param #   \n",
      "=================================================================\n",
      " dense_2 (Dense)             (None, 16)                224       \n",
      "                                                                 \n",
      " dense_3 (Dense)             (None, 8)                 136       \n",
      "                                                                 \n",
      " dense_4 (Dense)             (None, 1)                 9         \n",
      "                                                                 \n",
      "=================================================================\n",
      "Total params: 369\n",
      "Trainable params: 369\n",
      "Non-trainable params: 0\n",
      "_________________________________________________________________\n"
     ]
    }
   ],
   "source": [
    "model1.summary()"
   ]
  },
  {
   "cell_type": "code",
   "execution_count": 30,
   "metadata": {
    "id": "60CCDBMQWsgY"
   },
   "outputs": [],
   "source": [
    "ls = history1.history"
   ]
  },
  {
   "cell_type": "code",
   "execution_count": 31,
   "metadata": {
    "colab": {
     "base_uri": "https://localhost:8080/",
     "height": 424
    },
    "id": "yuNCv_HbWsik",
    "outputId": "31a685e8-5ee3-4675-d5f7-0cddb0f59494"
   },
   "outputs": [
    {
     "data": {
      "text/html": [
       "<div>\n",
       "<style scoped>\n",
       "    .dataframe tbody tr th:only-of-type {\n",
       "        vertical-align: middle;\n",
       "    }\n",
       "\n",
       "    .dataframe tbody tr th {\n",
       "        vertical-align: top;\n",
       "    }\n",
       "\n",
       "    .dataframe thead th {\n",
       "        text-align: right;\n",
       "    }\n",
       "</style>\n",
       "<table border=\"1\" class=\"dataframe\">\n",
       "  <thead>\n",
       "    <tr style=\"text-align: right;\">\n",
       "      <th></th>\n",
       "      <th>loss</th>\n",
       "      <th>accuracy</th>\n",
       "      <th>val_loss</th>\n",
       "      <th>val_accuracy</th>\n",
       "    </tr>\n",
       "  </thead>\n",
       "  <tbody>\n",
       "    <tr>\n",
       "      <th>0</th>\n",
       "      <td>0.513719</td>\n",
       "      <td>0.486281</td>\n",
       "      <td>0.52439</td>\n",
       "      <td>0.47561</td>\n",
       "    </tr>\n",
       "    <tr>\n",
       "      <th>1</th>\n",
       "      <td>0.513719</td>\n",
       "      <td>0.486281</td>\n",
       "      <td>0.52439</td>\n",
       "      <td>0.47561</td>\n",
       "    </tr>\n",
       "    <tr>\n",
       "      <th>2</th>\n",
       "      <td>0.513719</td>\n",
       "      <td>0.486281</td>\n",
       "      <td>0.52439</td>\n",
       "      <td>0.47561</td>\n",
       "    </tr>\n",
       "    <tr>\n",
       "      <th>3</th>\n",
       "      <td>0.513719</td>\n",
       "      <td>0.486281</td>\n",
       "      <td>0.52439</td>\n",
       "      <td>0.47561</td>\n",
       "    </tr>\n",
       "    <tr>\n",
       "      <th>4</th>\n",
       "      <td>0.513719</td>\n",
       "      <td>0.486281</td>\n",
       "      <td>0.52439</td>\n",
       "      <td>0.47561</td>\n",
       "    </tr>\n",
       "    <tr>\n",
       "      <th>...</th>\n",
       "      <td>...</td>\n",
       "      <td>...</td>\n",
       "      <td>...</td>\n",
       "      <td>...</td>\n",
       "    </tr>\n",
       "    <tr>\n",
       "      <th>95</th>\n",
       "      <td>0.513719</td>\n",
       "      <td>0.486281</td>\n",
       "      <td>0.52439</td>\n",
       "      <td>0.47561</td>\n",
       "    </tr>\n",
       "    <tr>\n",
       "      <th>96</th>\n",
       "      <td>0.513719</td>\n",
       "      <td>0.486281</td>\n",
       "      <td>0.52439</td>\n",
       "      <td>0.47561</td>\n",
       "    </tr>\n",
       "    <tr>\n",
       "      <th>97</th>\n",
       "      <td>0.513719</td>\n",
       "      <td>0.486281</td>\n",
       "      <td>0.52439</td>\n",
       "      <td>0.47561</td>\n",
       "    </tr>\n",
       "    <tr>\n",
       "      <th>98</th>\n",
       "      <td>0.513719</td>\n",
       "      <td>0.486281</td>\n",
       "      <td>0.52439</td>\n",
       "      <td>0.47561</td>\n",
       "    </tr>\n",
       "    <tr>\n",
       "      <th>99</th>\n",
       "      <td>0.513719</td>\n",
       "      <td>0.486281</td>\n",
       "      <td>0.52439</td>\n",
       "      <td>0.47561</td>\n",
       "    </tr>\n",
       "  </tbody>\n",
       "</table>\n",
       "<p>100 rows × 4 columns</p>\n",
       "</div>"
      ],
      "text/plain": [
       "        loss  accuracy  val_loss  val_accuracy\n",
       "0   0.513719  0.486281   0.52439       0.47561\n",
       "1   0.513719  0.486281   0.52439       0.47561\n",
       "2   0.513719  0.486281   0.52439       0.47561\n",
       "3   0.513719  0.486281   0.52439       0.47561\n",
       "4   0.513719  0.486281   0.52439       0.47561\n",
       "..       ...       ...       ...           ...\n",
       "95  0.513719  0.486281   0.52439       0.47561\n",
       "96  0.513719  0.486281   0.52439       0.47561\n",
       "97  0.513719  0.486281   0.52439       0.47561\n",
       "98  0.513719  0.486281   0.52439       0.47561\n",
       "99  0.513719  0.486281   0.52439       0.47561\n",
       "\n",
       "[100 rows x 4 columns]"
      ]
     },
     "execution_count": 31,
     "metadata": {},
     "output_type": "execute_result"
    }
   ],
   "source": [
    "new = pd.DataFrame.from_dict(ls)\n",
    "new"
   ]
  },
  {
   "cell_type": "code",
   "execution_count": 32,
   "metadata": {
    "id": "HTrOJic2Wsk5"
   },
   "outputs": [],
   "source": [
    "model2 = Sequential()\n",
    "model2.add(Dense(32, input_dim=13, activation='relu'))\n",
    "model2.add(Dense(16, activation='relu'))\n",
    "model2.add(Dense(8, activation='relu'))\n",
    "model2.add(Dense(1, activation='sigmoid'))"
   ]
  },
  {
   "cell_type": "code",
   "execution_count": 33,
   "metadata": {
    "colab": {
     "base_uri": "https://localhost:8080/"
    },
    "id": "auPMOYSsYBVQ",
    "outputId": "9bc6dbe3-e496-4a41-aaf1-87daeff5c5af"
   },
   "outputs": [
    {
     "name": "stdout",
     "output_type": "stream",
     "text": [
      "Epoch 1/10\n",
      "28/28 [==============================] - 1s 2ms/step - loss: 0.2490 - accuracy: 0.5341\n",
      "Epoch 2/10\n",
      "28/28 [==============================] - 0s 2ms/step - loss: 0.2423 - accuracy: 0.6159\n",
      "Epoch 3/10\n",
      "28/28 [==============================] - 0s 3ms/step - loss: 0.2412 - accuracy: 0.6476\n",
      "Epoch 4/10\n",
      "28/28 [==============================] - 0s 3ms/step - loss: 0.2359 - accuracy: 0.6451\n",
      "Epoch 5/10\n",
      "28/28 [==============================] - 0s 3ms/step - loss: 0.2328 - accuracy: 0.6817\n",
      "Epoch 6/10\n",
      "28/28 [==============================] - 0s 2ms/step - loss: 0.2276 - accuracy: 0.6671\n",
      "Epoch 7/10\n",
      "28/28 [==============================] - 0s 2ms/step - loss: 0.2248 - accuracy: 0.6707\n",
      "Epoch 8/10\n",
      "28/28 [==============================] - 0s 3ms/step - loss: 0.2222 - accuracy: 0.7110\n",
      "Epoch 9/10\n",
      "28/28 [==============================] - 0s 2ms/step - loss: 0.2191 - accuracy: 0.7000\n",
      "Epoch 10/10\n",
      "28/28 [==============================] - 0s 2ms/step - loss: 0.2159 - accuracy: 0.6988\n"
     ]
    },
    {
     "data": {
      "text/plain": [
       "<keras.callbacks.History at 0x285a27c4f40>"
      ]
     },
     "execution_count": 33,
     "metadata": {},
     "output_type": "execute_result"
    }
   ],
   "source": [
    "model2.compile(loss='mse', optimizer=optimizer, metrics=['accuracy'])\n",
    "model2.fit(X_train, y_train, epochs=10, batch_size=30, verbose=1)"
   ]
  },
  {
   "cell_type": "code",
   "execution_count": 34,
   "metadata": {
    "colab": {
     "base_uri": "https://localhost:8080/"
    },
    "id": "uUfO375cYBXm",
    "outputId": "1400c7d4-77cc-47b8-8778-ab997a58e6be"
   },
   "outputs": [
    {
     "name": "stdout",
     "output_type": "stream",
     "text": [
      "7/7 [==============================] - 0s 3ms/step - loss: 0.2621 - accuracy: 0.5268\n"
     ]
    },
    {
     "data": {
      "text/plain": [
       "[0.26208311319351196, 0.5268292427062988]"
      ]
     },
     "execution_count": 34,
     "metadata": {},
     "output_type": "execute_result"
    }
   ],
   "source": [
    "model2.evaluate(X_test, y_test)"
   ]
  },
  {
   "cell_type": "code",
   "execution_count": 35,
   "metadata": {
    "colab": {
     "base_uri": "https://localhost:8080/"
    },
    "id": "fjNCnJPOYBZ9",
    "outputId": "91e5eca7-2bfd-4c87-8636-c6a5a05335cb"
   },
   "outputs": [
    {
     "name": "stdout",
     "output_type": "stream",
     "text": [
      "Model: \"sequential_2\"\n",
      "_________________________________________________________________\n",
      " Layer (type)                Output Shape              Param #   \n",
      "=================================================================\n",
      " dense_5 (Dense)             (None, 32)                448       \n",
      "                                                                 \n",
      " dense_6 (Dense)             (None, 16)                528       \n",
      "                                                                 \n",
      " dense_7 (Dense)             (None, 8)                 136       \n",
      "                                                                 \n",
      " dense_8 (Dense)             (None, 1)                 9         \n",
      "                                                                 \n",
      "=================================================================\n",
      "Total params: 1,121\n",
      "Trainable params: 1,121\n",
      "Non-trainable params: 0\n",
      "_________________________________________________________________\n"
     ]
    }
   ],
   "source": [
    "model2.summary()"
   ]
  },
  {
   "cell_type": "code",
   "execution_count": 36,
   "metadata": {
    "id": "QvZ2WzCaYBci"
   },
   "outputs": [],
   "source": [
    "model3 = Sequential()\n",
    "model3.add(Dense(64, input_dim=13, activation='relu'))\n",
    "model3.add(Dense(32, activation='relu'))\n",
    "model3.add(Dense(16, activation='relu'))\n",
    "model3.add(Dense(8, activation='relu'))\n",
    "model3.add(Dense(1, activation='sigmoid'))"
   ]
  },
  {
   "cell_type": "code",
   "execution_count": 37,
   "metadata": {
    "colab": {
     "base_uri": "https://localhost:8080/"
    },
    "id": "JahygB3UYY3W",
    "outputId": "0c80ad18-b73c-4c16-f3b7-9e7eebfd6454"
   },
   "outputs": [
    {
     "name": "stdout",
     "output_type": "stream",
     "text": [
      "Epoch 1/10\n",
      "28/28 [==============================] - 1s 3ms/step - loss: 0.4776 - accuracy: 0.5171\n",
      "Epoch 2/10\n",
      "28/28 [==============================] - 0s 3ms/step - loss: 0.4664 - accuracy: 0.5280\n",
      "Epoch 3/10\n",
      "28/28 [==============================] - 0s 3ms/step - loss: 0.5159 - accuracy: 0.4841\n",
      "Epoch 4/10\n",
      "28/28 [==============================] - 0s 3ms/step - loss: 0.5159 - accuracy: 0.4841\n",
      "Epoch 5/10\n",
      "28/28 [==============================] - 0s 3ms/step - loss: 0.5003 - accuracy: 0.4951\n",
      "Epoch 6/10\n",
      "28/28 [==============================] - 0s 3ms/step - loss: 0.5158 - accuracy: 0.4841\n",
      "Epoch 7/10\n",
      "28/28 [==============================] - 0s 3ms/step - loss: 0.4992 - accuracy: 0.4939\n",
      "Epoch 8/10\n",
      "28/28 [==============================] - 0s 3ms/step - loss: 0.3251 - accuracy: 0.6159\n",
      "Epoch 9/10\n",
      "28/28 [==============================] - 0s 3ms/step - loss: 0.2947 - accuracy: 0.6488\n",
      "Epoch 10/10\n",
      "28/28 [==============================] - 0s 3ms/step - loss: 0.2800 - accuracy: 0.6659\n"
     ]
    },
    {
     "data": {
      "text/plain": [
       "<keras.callbacks.History at 0x285a3900880>"
      ]
     },
     "execution_count": 37,
     "metadata": {},
     "output_type": "execute_result"
    }
   ],
   "source": [
    "model3.compile(loss='mse', optimizer=optimizer, metrics=['accuracy'])\n",
    "model3.fit(X_train, y_train, epochs=10, batch_size=30, verbose=1)"
   ]
  },
  {
   "cell_type": "code",
   "execution_count": 38,
   "metadata": {
    "colab": {
     "base_uri": "https://localhost:8080/"
    },
    "id": "JxpSe4gBYY5_",
    "outputId": "2da8bb97-8332-4eb9-e8e9-f64fb46f38e9"
   },
   "outputs": [
    {
     "name": "stdout",
     "output_type": "stream",
     "text": [
      "7/7 [==============================] - 0s 3ms/step - loss: 0.2741 - accuracy: 0.6683\n"
     ]
    },
    {
     "data": {
      "text/plain": [
       "[0.2741488814353943, 0.6682927012443542]"
      ]
     },
     "execution_count": 38,
     "metadata": {},
     "output_type": "execute_result"
    }
   ],
   "source": [
    "model3.evaluate(X_test, y_test)"
   ]
  },
  {
   "cell_type": "code",
   "execution_count": 39,
   "metadata": {
    "colab": {
     "base_uri": "https://localhost:8080/"
    },
    "id": "nRZ_TcGEYY8D",
    "outputId": "d64d9f38-fc4d-47c5-da9b-4b94d467ea1f"
   },
   "outputs": [
    {
     "name": "stdout",
     "output_type": "stream",
     "text": [
      "Model: \"sequential_3\"\n",
      "_________________________________________________________________\n",
      " Layer (type)                Output Shape              Param #   \n",
      "=================================================================\n",
      " dense_9 (Dense)             (None, 64)                896       \n",
      "                                                                 \n",
      " dense_10 (Dense)            (None, 32)                2080      \n",
      "                                                                 \n",
      " dense_11 (Dense)            (None, 16)                528       \n",
      "                                                                 \n",
      " dense_12 (Dense)            (None, 8)                 136       \n",
      "                                                                 \n",
      " dense_13 (Dense)            (None, 1)                 9         \n",
      "                                                                 \n",
      "=================================================================\n",
      "Total params: 3,649\n",
      "Trainable params: 3,649\n",
      "Non-trainable params: 0\n",
      "_________________________________________________________________\n"
     ]
    }
   ],
   "source": [
    "model3.summary()"
   ]
  },
  {
   "cell_type": "code",
   "execution_count": null,
   "metadata": {
    "id": "9Lw5XOdJYjap"
   },
   "outputs": [],
   "source": []
  }
 ],
 "metadata": {
  "colab": {
   "name": "PDL_LAB_3_215229137.ipynb",
   "provenance": []
  },
  "kernelspec": {
   "display_name": "Python 3",
   "language": "python",
   "name": "python3"
  },
  "language_info": {
   "codemirror_mode": {
    "name": "ipython",
    "version": 3
   },
   "file_extension": ".py",
   "mimetype": "text/x-python",
   "name": "python",
   "nbconvert_exporter": "python",
   "pygments_lexer": "ipython3",
   "version": "3.8.8"
  }
 },
 "nbformat": 4,
 "nbformat_minor": 1
}
